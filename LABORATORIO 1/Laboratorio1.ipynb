{
 "cells": [
  {
   "cell_type": "markdown",
   "metadata": {},
   "source": [
    "Importamos las librerias necesarias"
   ]
  },
  {
   "cell_type": "code",
   "execution_count": 1,
   "metadata": {},
   "outputs": [],
   "source": [
    "# utilizado para manejos de directorios y rutas\n",
    "import os\n",
    "import pandas as pd\n",
    "# Computacion vectorial y cientifica para python\n",
    "import numpy as np\n",
    "# Librerias para graficación (trazado de gráficos)\n",
    "from matplotlib import pyplot\n",
    "# llama a matplotlib a embeber graficas dentro de los cuadernillos\n",
    "%matplotlib inline"
   ]
  },
  {
   "cell_type": "markdown",
   "metadata": {},
   "source": [
    "Luego ingresamos el Dataset, almacenando en una variable, luego verificando si el archivo existe y con ayuda de la librería de pandas cargamos todos los datos al dataset."
   ]
  },
  {
   "cell_type": "code",
   "execution_count": 2,
   "metadata": {},
   "outputs": [
    {
     "name": "stdout",
     "output_type": "stream",
     "text": [
      "El archivo existe. Cargando datos...\n"
     ]
    }
   ],
   "source": [
    "# Verificar si el archivo existe\n",
    "ruta_archivo = 'California_Houses.csv'  # Asegúrate de que el nombre sea exacto\n",
    "if not os.path.exists(ruta_archivo):\n",
    "    print(f\"El archivo no existe en la ruta: {os.path.abspath(ruta_archivo)}\")\n",
    "else:\n",
    "    print(f\"El archivo existe. Cargando datos...\")\n",
    "    data = pd.read_csv(ruta_archivo)"
   ]
  },
  {
   "cell_type": "markdown",
   "metadata": {},
   "source": [
    "Imprimimos los nombres de las columnas de ejemplos"
   ]
  },
  {
   "cell_type": "code",
   "execution_count": 3,
   "metadata": {},
   "outputs": [
    {
     "name": "stdout",
     "output_type": "stream",
     "text": [
      "Columnas disponibles en el dataset:\n",
      "Index(['Median_House_Value', 'Median_Income', 'Median_Age', 'Tot_Rooms',\n",
      "       'Tot_Bedrooms', 'Population', 'Households', 'Latitude', 'Longitude',\n",
      "       'Distance_to_coast', 'Distance_to_LA', 'Distance_to_SanDiego',\n",
      "       'Distance_to_SanJose', 'Distance_to_SanFrancisco'],\n",
      "      dtype='object')\n"
     ]
    }
   ],
   "source": [
    "# Imprimir los nombres de las columnas para verificar\n",
    "print(\"Columnas disponibles en el dataset:\")\n",
    "print(data.columns)"
   ]
  },
  {
   "cell_type": "markdown",
   "metadata": {},
   "source": [
    "Realizamos el proceso de seleccion de caracteristicas, que serian las X's y la variable objetivo que seria la Y, en este caso nosotros queremos hallar el valor medio de una casa, por tanto esa sera nuestra Y y el resto de caracteristicas las X's "
   ]
  },
  {
   "cell_type": "code",
   "execution_count": 4,
   "metadata": {},
   "outputs": [],
   "source": [
    "# Seleccionar características X's y variable objetivo Y's\n",
    "X = data[['Median_Income', 'Median_Age', 'Tot_Rooms', 'Tot_Bedrooms', \n",
    "                     'Population', 'Households', 'Latitude', 'Longitude', \n",
    "                     'Distance_to_coast', 'Distance_to_LA', 'Distance_to_SanDiego']]  # Columnas seleccionadas\n",
    "Y = data['Median_House_Value']  # Variable objetivo\n",
    "m = Y.size  # número de ejempores (filas)"
   ]
  },
  {
   "cell_type": "markdown",
   "metadata": {},
   "source": [
    "Normalización\n",
    "\n",
    "Ahora creamos una funcion para aplicar la desviacion estandar con ayuda de las herramientas que nos proporciona la libreria Numpy, Esta desviacion estándar nos ayuda a medir cuánta variación hay en el rango de valores de una característica en particular (la mayoría de los puntos caeran en un rango de ± 2 en relación a la desviaciones estándar de la media); esta es una alternativa a tomar el rango de valores (max-min)."
   ]
  },
  {
   "cell_type": "code",
   "execution_count": 5,
   "metadata": {},
   "outputs": [],
   "source": [
    "def  featureNormalize(X):\n",
    "\n",
    "    X_norm = X.copy()\n",
    "    mu = np.zeros(X.shape[1])      #ejemplos\n",
    "    sigma = np.zeros(X.shape[1])\n",
    "\n",
    "    mu = np.mean(X, axis = 0)   #columa\n",
    "    sigma = np.std(X, axis = 0)\n",
    "    X_norm = (X - mu) / sigma   #formula de norm carac\n",
    "\n",
    "    return X_norm, mu, sigma"
   ]
  },
  {
   "cell_type": "code",
   "execution_count": 6,
   "metadata": {},
   "outputs": [
    {
     "name": "stdout",
     "output_type": "stream",
     "text": [
      "       Median_Income  Median_Age  Tot_Rooms  Tot_Bedrooms  Population  \\\n",
      "0             8.3252          41        880           129         322   \n",
      "1             8.3014          21       7099          1106        2401   \n",
      "2             7.2574          52       1467           190         496   \n",
      "3             5.6431          52       1274           235         558   \n",
      "4             3.8462          52       1627           280         565   \n",
      "...              ...         ...        ...           ...         ...   \n",
      "20635         1.5603          25       1665           374         845   \n",
      "20636         2.5568          18        697           150         356   \n",
      "20637         1.7000          17       2254           485        1007   \n",
      "20638         1.8672          18       1860           409         741   \n",
      "20639         2.3886          16       2785           616        1387   \n",
      "\n",
      "       Households  Latitude  Longitude  Distance_to_coast  Distance_to_LA  \\\n",
      "0             126     37.88    -122.23        9263.040773   556529.158342   \n",
      "1            1138     37.86    -122.22       10225.733072   554279.850069   \n",
      "2             177     37.85    -122.24        8259.085109   554610.717069   \n",
      "3             219     37.85    -122.25        7768.086571   555194.266086   \n",
      "4             259     37.85    -122.25        7768.086571   555194.266086   \n",
      "...           ...       ...        ...                ...             ...   \n",
      "20635         330     39.48    -121.09      162031.481121   654530.186299   \n",
      "20636         114     39.49    -121.21      160445.433537   659747.068444   \n",
      "20637         433     39.43    -121.22      153754.341182   654042.214020   \n",
      "20638         349     39.43    -121.32      152005.022239   657698.007703   \n",
      "20639         530     39.37    -121.24      146866.196892   648723.337126   \n",
      "\n",
      "       Distance_to_SanDiego  \n",
      "0             735501.806984  \n",
      "1             733236.884360  \n",
      "2             733525.682937  \n",
      "3             734095.290744  \n",
      "4             734095.290744  \n",
      "...                     ...  \n",
      "20635         830631.543047  \n",
      "20636         836245.915229  \n",
      "20637         830699.573163  \n",
      "20638         834672.461887  \n",
      "20639         825569.179028  \n",
      "\n",
      "[20640 rows x 11 columns]\n",
      "Media calculada: Median_Income                3.870671\n",
      "Median_Age                  28.639486\n",
      "Tot_Rooms                 2635.763081\n",
      "Tot_Bedrooms               537.898014\n",
      "Population                1425.476744\n",
      "Households                 499.539680\n",
      "Latitude                    35.631861\n",
      "Longitude                 -119.569704\n",
      "Distance_to_coast        40509.264883\n",
      "Distance_to_LA          269421.981646\n",
      "Distance_to_SanDiego    398164.933494\n",
      "dtype: float64\n",
      "Desviación estandar calculada: Median_Income                1.899776\n",
      "Median_Age                  12.585253\n",
      "Tot_Rooms                 2181.562402\n",
      "Tot_Bedrooms               421.237701\n",
      "Population                1132.434688\n",
      "Households                 382.320491\n",
      "Latitude                     2.135901\n",
      "Longitude                    2.003483\n",
      "Distance_to_coast        49138.848738\n",
      "Distance_to_LA          247726.444790\n",
      "Distance_to_SanDiego    289393.552977\n",
      "dtype: float64\n",
      "       Median_Income  Median_Age  Tot_Rooms  Tot_Bedrooms  Population  \\\n",
      "0           2.344766    0.982143  -0.804819     -0.970706   -0.974429   \n",
      "1           2.332238   -0.607019   2.045890      1.348649    0.861439   \n",
      "2           1.782699    1.856182  -0.535746     -0.825895   -0.820777   \n",
      "3           0.932968    1.856182  -0.624215     -0.719067   -0.766028   \n",
      "4          -0.012881    1.856182  -0.462404     -0.612239   -0.759847   \n",
      "...              ...         ...        ...           ...         ...   \n",
      "20635      -1.216128   -0.289187  -0.444985     -0.389087   -0.512592   \n",
      "20636      -0.691593   -0.845393  -0.888704     -0.920853   -0.944405   \n",
      "20637      -1.142593   -0.924851  -0.174995     -0.125578   -0.369537   \n",
      "20638      -1.054583   -0.845393  -0.355600     -0.305998   -0.604429   \n",
      "20639      -0.780129   -1.004309   0.068408      0.185411   -0.033977   \n",
      "\n",
      "       Households  Latitude  Longitude  Distance_to_coast  Distance_to_LA  \\\n",
      "0       -0.977033  1.052548  -1.327835          -0.635876        1.158969   \n",
      "1        1.669961  1.043185  -1.322844          -0.616285        1.149889   \n",
      "2       -0.843637  1.038503  -1.332827          -0.656307        1.151224   \n",
      "3       -0.733781  1.038503  -1.337818          -0.666299        1.153580   \n",
      "4       -0.629157  1.038503  -1.337818          -0.666299        1.153580   \n",
      "...           ...       ...        ...                ...             ...   \n",
      "20635   -0.443449  1.801647  -0.758826           2.473038        1.554570   \n",
      "20636   -1.008420  1.806329  -0.818722           2.440761        1.575629   \n",
      "20637   -0.174042  1.778237  -0.823713           2.304594        1.552601   \n",
      "20638   -0.393753  1.778237  -0.873626           2.268994        1.567358   \n",
      "20639    0.079672  1.750146  -0.833696           2.164416        1.531130   \n",
      "\n",
      "       Distance_to_SanDiego  \n",
      "0                  1.165668  \n",
      "1                  1.157842  \n",
      "2                  1.158840  \n",
      "3                  1.160808  \n",
      "4                  1.160808  \n",
      "...                     ...  \n",
      "20635              1.494389  \n",
      "20636              1.513790  \n",
      "20637              1.494624  \n",
      "20638              1.508353  \n",
      "20639              1.476896  \n",
      "\n",
      "[20640 rows x 11 columns]\n"
     ]
    }
   ],
   "source": [
    "# llama featureNormalize con los datos cargados\n",
    "X_norm, mu, sigma = featureNormalize(X)\n",
    "\n",
    "print(X)\n",
    "print('Media calculada:', mu)\n",
    "print('Desviación estandar calculada:', sigma)\n",
    "print(X_norm)"
   ]
  },
  {
   "cell_type": "markdown",
   "metadata": {},
   "source": [
    "Ahora añadimos a la matriz la columna de 1's, para las operaciones, especialmente para remplazar x0"
   ]
  },
  {
   "cell_type": "code",
   "execution_count": 7,
   "metadata": {},
   "outputs": [],
   "source": [
    "# Añade el termino de interseccion a X\n",
    "# (Columna de unos para el termino Ind)\n",
    "X = np.concatenate([np.ones((m, 1)), X_norm], axis=1)"
   ]
  },
  {
   "cell_type": "markdown",
   "metadata": {},
   "source": [
    "DESCENCO POR EL GRADIENTE\n",
    "\n",
    "Funcion de Costos"
   ]
  },
  {
   "cell_type": "code",
   "execution_count": 8,
   "metadata": {},
   "outputs": [],
   "source": [
    "def computeCostMulti(X, y, theta):\n",
    "    # Inicializa algunos valores utiles\n",
    "    m = y.shape[0] # numero de ejemplos de entrenamiento\n",
    "    \n",
    "    J = (1/(2 * m)) * np.sum(np.square(np.dot(X, theta) - y)) #MSE\n",
    "\n",
    "    return J"
   ]
  },
  {
   "cell_type": "markdown",
   "metadata": {},
   "source": [
    "Función para el descenso por el Gradiente"
   ]
  },
  {
   "cell_type": "code",
   "execution_count": 9,
   "metadata": {},
   "outputs": [],
   "source": [
    "def gradientDescentMulti(X, y, theta, alpha, num_iters):\n",
    "\n",
    "    # Inicializa algunos valores\n",
    "    m = y.shape[0] # numero de ejemplos de entrenamiento\n",
    "\n",
    "    # realiza una copia de theta, el cual será acutalizada por el descenso por el gradiente\n",
    "\n",
    "    theta = theta.copy()\n",
    "\n",
    "    J_history = [] #lista para almacenar el costo it\n",
    "\n",
    "    for i in range(num_iters):\n",
    "        theta = theta - (alpha / m) * (np.dot(X, theta) - y).dot(X) #actualizacion de descenso\n",
    "        J_history.append(computeCostMulti(X, y, theta))         #almacenando c \n",
    "        3\n",
    "\n",
    "    return theta, J_history #par ajustados y el history cost"
   ]
  },
  {
   "cell_type": "code",
   "execution_count": 10,
   "metadata": {},
   "outputs": [
    {
     "name": "stdout",
     "output_type": "stream",
     "text": [
      "theta calculado por el descenso por el gradiente: [206846.47253953  71235.7700928   13551.32938664   3574.86138307\n",
      "  20871.55705648 -34864.47042384  15654.67880817  -8950.06033888\n",
      " -26082.41939651 -27288.59891149 -21293.92887245   1414.16589136]\n",
      "El precio estimado de este ejemplo (usando el descenso por el gradiente) es: $402262\n"
     ]
    },
    {
     "data": {
      "image/png": "[encoded data removed]",
      "text/plain": [
       "<Figure size 640x480 with 1 Axes>"
      ]
     },
     "metadata": {},
     "output_type": "display_data"
    }
   ],
   "source": [
    "# inicializa los parámetros y ejecutar el descenso por el gradiente\n",
    "alpha = 0.001  # Elegir algun valor para alpha \n",
    "num_iters = 10000\n",
    "theta = np.zeros(X.shape[1]) #I parame con 0s \n",
    "theta, J_history = gradientDescentMulti(X, Y, theta, alpha, num_iters) #ejec dpeg para ajustar\n",
    "\n",
    "# Grafica la convergencia del costo\n",
    "pyplot.plot(np.arange(len(J_history)), J_history, lw=2)\n",
    "pyplot.xlabel('Numero de iteraciones')\n",
    "pyplot.ylabel('Costo J')\n",
    "\n",
    "# Muestra los resultados del descenso por el gradiente\n",
    "print('theta calculado por el descenso por el gradiente: {:s}'.format(str(theta)))\n",
    "\n",
    "# Estimar el precio para una casa\n",
    "X_array = [1, 2.34476576, 0.98214266, -0.804819, -0.970706, -0.974429, -0.977033, 1.052548, -1.327835, -0.635876, 1.158969, 1.165668]\n",
    "price = np.dot(X_array, theta)\n",
    "\n",
    "print('El precio estimado de este ejemplo (usando el descenso por el gradiente) es: ${:.0f}'.format(price))"
   ]
  },
  {
   "cell_type": "markdown",
   "metadata": {},
   "source": [
    "Ecuación de la normal"
   ]
  },
  {
   "cell_type": "code",
   "execution_count": 11,
   "metadata": {},
   "outputs": [],
   "source": [
    "# 1. Cargar datos\n",
    "data = pd.read_csv('California_Houses.csv')\n",
    "\n",
    "# Separar características (X) y variable objetivo (y)\n",
    "X = data.drop('Median_House_Value', axis=1)  # Todas las columnas excepto 'Median_House_Value'\n",
    "y = data['Median_House_Value']               # Columna 'Median_House_Value' es la variable objetivo\n",
    "m = y.size                                   # Número de ejemplos de entrenamiento\n",
    "# 2. Preprocesar datos\n",
    "# Añadir una columna de unos a X para el término de intersección \n",
    "X = np.concatenate([np.ones((m, 1)), X], axis=1)"
   ]
  },
  {
   "cell_type": "code",
   "execution_count": 12,
   "metadata": {},
   "outputs": [],
   "source": [
    "# 3. Ecuación normal\n",
    "def normalEqn(X, y):\n",
    "    # Calcular theta usando la ecuación normal\n",
    "    theta = np.zeros(X.shape[1])\n",
    "    theta = np.dot(np.dot(np.linalg.inv(np.dot(X.T, X)), X.T), y)\n",
    "    return theta\n"
   ]
  },
  {
   "cell_type": "code",
   "execution_count": 13,
   "metadata": {},
   "outputs": [
    {
     "name": "stdout",
     "output_type": "stream",
     "text": [
      "Theta calculado a partir de la ecuación normal:\n",
      "[-1.74366243e+06  3.91028684e+04  8.76791687e+02 -5.69708341e+00\n",
      "  1.02998886e+02 -3.98321881e+01  4.70091196e+01 -4.40924514e+04\n",
      " -2.75174407e+04 -2.32201092e-01 -1.47363972e-01  2.36468464e-01\n",
      "  1.62519906e-01 -1.39613373e-01]\n",
      "Precio predecido para la casa de ejemplo: $312493\n"
     ]
    }
   ],
   "source": [
    "# Calcular los parámetros óptimos\n",
    "theta = normalEqn(X, y)\n",
    "\n",
    "# Mostrar los parámetros calculados\n",
    "print('Theta calculado a partir de la ecuación normal:')\n",
    "print(theta)\n",
    "\n",
    "# 4. Hacer predicciones\n",
    "# Crear un ejemplo para predecir (ajusta los valores según tu dataset)\n",
    "# Asegúrate de que X_array tenga la misma longitud que theta\n",
    "# Ejemplo: [1, Median_Income, Median_Age, Tot_Rooms, Tot_Bedrooms, Population, Households, Latitude, Longitude, Distance_to_coast, Distance_to_LA, Distance_to_SanDiego]\n",
    "X_array = [1, 8.3252, 41.0, 880.0, 129.0, 322.0, 126.0, 37.88, -122.23, 50.0, 300.0, 500.0, 0.0, 0.0]  # Ajusta los valores según tu dataset\n",
    "price = np.dot(X_array, theta)\n",
    "\n",
    "# Mostrar la predicción\n",
    "print('Precio predecido para la casa de ejemplo: ${:.0f}'.format(price))"
   ]
  }
 ],
 "metadata": {
  "kernelspec": {
   "display_name": "Python 3",
   "language": "python",
   "name": "python3"
  },
  "language_info": {
   "codemirror_mode": {
    "name": "ipython",
    "version": 3
   },
   "file_extension": ".py",
   "mimetype": "text/x-python",
   "name": "python",
   "nbconvert_exporter": "python",
   "pygments_lexer": "ipython3",
   "version": "3.11.9"
  }
 },
 "nbformat": 4,
 "nbformat_minor": 2
}
