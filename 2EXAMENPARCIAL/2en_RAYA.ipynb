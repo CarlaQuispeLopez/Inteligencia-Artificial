{
  "cells": [
    {
      "cell_type": "markdown",
      "metadata": {
        "id": "zJ5Qx_7ZaJ7L"
      },
      "source": [
        "# Aprendizaje por Refuerzo para Cuatro en Raya\n",
        "\n",
        "Este cuadernillo implementa un agente de aprendizaje por refuerzo capaz de jugar Cuatro en Raya utilizando el algoritmo Deep Q-Network (DQN). El objetivo es que el agente aprenda estrategias ganadoras a través de la interacción con el ambiente, aplicando los principios fundamentales de exploración vs explotación.\n",
        "\n",
        "## Objetivo del Proyecto\n",
        "Desarrollar un agente inteligente que aprenda a jugar Cuatro en Raya sin conocimiento previo del juego, utilizando únicamente las recompensas obtenidas por sus acciones para mejorar su rendimiento progresivamente."
      ]
    },
    {
      "cell_type": "markdown",
      "metadata": {
        "id": "x-61TBlJaSFS"
      },
      "source": [
        "## Metodología Empleada\n",
        "\n",
        "### Algoritmo Seleccionado: Deep Q-Network (DQN)\n",
        "Se eligió DQN porque combina Q-Learning con redes neuronales profundas, permitiendo manejar el espacio de estados complejo del Cuatro en Raya (6x7 = 42 posiciones posibles con 3 estados cada una).\n",
        "\n",
        "### Estrategia de Exploración vs Explotación\n",
        "Se implementa la estrategia epsilon-greedy donde:\n",
        "- Exploración: El agente toma acciones aleatorias para descubrir nuevas estrategias\n",
        "- Explotación: El agente usa su conocimiento actual para maximizar recompensas\n",
        "- El balance se controla con epsilon que decrece gradualmente durante el entrenamiento"
      ]
    },
    {
      "cell_type": "code",
      "execution_count": 20,
      "metadata": {
        "colab": {
          "base_uri": "https://localhost:8080/"
        },
        "id": "R1-9xT5CVB16",
        "outputId": "b3699c90-bf07-4945-9c48-f18f13e654b5"
      },
      "outputs": [
        {
          "name": "stdout",
          "output_type": "stream",
          "text": [
            "Configuración completada\n"
          ]
        }
      ],
      "source": [
        "# CUADERNILLO DE APRENDIZAJE POR REFUERZO - CUATRO EN RAYA\n",
        "\n",
        "# PARTE 1: INSTALACIÓN Y CONFIGURACIÓN\n",
        "import subprocess\n",
        "import sys\n",
        "\n",
        "def instalar(paquete):\n",
        "    subprocess.check_call([sys.executable, \"-m\", \"pip\", \"install\", paquete])\n",
        "\n",
        "# Instalar dependencias\n",
        "paquetes = [\"torch\", \"numpy\", \"matplotlib\", \"tqdm\"]\n",
        "for p in paquetes:\n",
        "    instalar(p)\n",
        "\n",
        "# Importaciones\n",
        "import torch\n",
        "import torch.nn as nn\n",
        "import torch.optim as optim\n",
        "import torch.nn.functional as F\n",
        "import numpy as np\n",
        "import matplotlib.pyplot as plt\n",
        "import random\n",
        "from collections import deque\n",
        "from tqdm import tqdm\n",
        "\n",
        "# Configuración\n",
        "torch.manual_seed(42)\n",
        "np.random.seed(42)\n",
        "random.seed(42)\n",
        "\n",
        "print(\"Configuración completada\")"
      ]
    },
    {
      "cell_type": "markdown",
      "metadata": {
        "id": "M_h-JpK4aVlR"
      },
      "source": [
        "## Diseño del Ambiente de Cuatro en Raya\n",
        "\n",
        "### Representación del Estado\n",
        "El tablero se representa como una matriz 6x7 donde:\n",
        "- 0 = celda vacía\n",
        "- 1 = ficha del agente  \n",
        "- 2 = ficha del oponente\n",
        "\n",
        "### Espacio de Acciones\n",
        "Las acciones corresponden a las 7 columnas del tablero (0-6). El agente debe elegir una columna válida donde colocar su ficha.\n",
        "\n",
        "### Sistema de Recompensas\n",
        "- +1: Victoria del agente\n",
        "- 0: Empate o continuar jugando\n",
        "- -10: Movimiento inválido (columna llena)\n",
        "\n",
        "Este diseño incentiva al agente a ganar y penaliza fuertemente los errores."
      ]
    },
    {
      "cell_type": "code",
      "execution_count": 21,
      "metadata": {
        "colab": {
          "base_uri": "https://localhost:8080/"
        },
        "id": "2vxOfMM7Vu7x",
        "outputId": "913cb815-d6d6-435d-b382-da88c09ba10a"
      },
      "outputs": [
        {
          "name": "stdout",
          "output_type": "stream",
          "text": [
            "Ambiente implementado\n"
          ]
        }
      ],
      "source": [
        "# PARTE 2: AMBIENTE DE CUATRO EN RAYA\n",
        "class CuatroEnRaya:\n",
        "    def __init__(self):\n",
        "        self.filas = 6\n",
        "        self.columnas = 7\n",
        "        self.reset()\n",
        "\n",
        "    def reset(self):\n",
        "        self.tablero = np.zeros((self.filas, self.columnas), dtype=int)\n",
        "        self.jugador_actual = 1\n",
        "        self.terminado = False\n",
        "        return self.get_estado()\n",
        "\n",
        "    def get_estado(self):\n",
        "        return self.tablero.copy()\n",
        "\n",
        "    def get_acciones_validas(self):\n",
        "        return [col for col in range(self.columnas) if self.tablero[0][col] == 0]\n",
        "\n",
        "    def hacer_movimiento(self, columna):\n",
        "        if columna not in self.get_acciones_validas():\n",
        "            return self.get_estado(), -10, True, True  # estado, recompensa, terminado, invalido\n",
        "\n",
        "        # Colocar ficha\n",
        "        for fila in range(self.filas - 1, -1, -1):\n",
        "            if self.tablero[fila][columna] == 0:\n",
        "                self.tablero[fila][columna] = self.jugador_actual\n",
        "                break\n",
        "\n",
        "        # Verificar victoria\n",
        "        if self._verificar_victoria(fila, columna):\n",
        "            recompensa = 1\n",
        "            self.terminado = True\n",
        "        elif len(self.get_acciones_validas()) == 0:\n",
        "            recompensa = 0  # Empate\n",
        "            self.terminado = True\n",
        "        else:\n",
        "            recompensa = 0\n",
        "\n",
        "        # Cambiar jugador\n",
        "        self.jugador_actual = 3 - self.jugador_actual\n",
        "\n",
        "        return self.get_estado(), recompensa, self.terminado, False\n",
        "\n",
        "    def _verificar_victoria(self, fila, columna):\n",
        "        jugador = self.tablero[fila][columna]\n",
        "        direcciones = [(0, 1), (1, 0), (1, 1), (1, -1)]\n",
        "\n",
        "        for dr, dc in direcciones:\n",
        "            contador = 1\n",
        "\n",
        "            # Contar hacia adelante\n",
        "            r, c = fila + dr, columna + dc\n",
        "            while 0 <= r < self.filas and 0 <= c < self.columnas and self.tablero[r][c] == jugador:\n",
        "                contador += 1\n",
        "                r, c = r + dr, c + dc\n",
        "\n",
        "            # Contar hacia atrás\n",
        "            r, c = fila - dr, columna - dc\n",
        "            while 0 <= r < self.filas and 0 <= c < self.columnas and self.tablero[r][c] == jugador:\n",
        "                contador += 1\n",
        "                r, c = r - dr, c - dc\n",
        "\n",
        "            if contador >= 4:\n",
        "                return True\n",
        "        return False\n",
        "\n",
        "    def mostrar(self):\n",
        "        print(\"  0 1 2 3 4 5 6\")\n",
        "        for fila in self.tablero:\n",
        "            print(\"| \" + \" \".join([\".\" if x == 0 else (\"X\" if x == 1 else \"O\") for x in fila]) + \" |\")\n",
        "        print(\"---------------\")\n",
        "\n",
        "print(\"Ambiente implementado\")\n"
      ]
    },
    {
      "cell_type": "markdown",
      "metadata": {
        "id": "GWO4pTvAaZDB"
      },
      "source": [
        "## Arquitectura de la Red Neuronal\n",
        "\n",
        "### Diseño de la Red DQN\n",
        "La red neuronal implementada tiene la siguiente arquitectura:\n",
        "- Capa de entrada: 42 neuronas (tablero 6x7 aplanado)\n",
        "- Capa oculta 1: 128 neuronas con activación ReLU\n",
        "- Capa oculta 2: 128 neuronas con activación ReLU  \n",
        "- Capa oculta 3: 64 neuronas con activación ReLU\n",
        "- Capa de salida: 7 neuronas (Q-valores para cada columna)\n",
        "\n",
        "### Técnicas de Regularización\n",
        "Se aplica Dropout (20%) para prevenir sobreajuste y mejorar la generalización del modelo."
      ]
    },
    {
      "cell_type": "code",
      "execution_count": 22,
      "metadata": {
        "colab": {
          "base_uri": "https://localhost:8080/"
        },
        "id": "XBGjuPZNVxlc",
        "outputId": "1c57a68e-99e5-47d9-8a96-2e111c542325"
      },
      "outputs": [
        {
          "name": "stdout",
          "output_type": "stream",
          "text": [
            "Red neuronal definida\n"
          ]
        }
      ],
      "source": [
        "# PARTE 3: RED NEURONAL DQN\n",
        "class DQN(nn.Module):\n",
        "    def __init__(self, input_size=42, hidden_size=128, output_size=7):\n",
        "        super(DQN, self).__init__()\n",
        "        self.fc1 = nn.Linear(input_size, hidden_size)\n",
        "        self.fc2 = nn.Linear(hidden_size, hidden_size)\n",
        "        self.fc3 = nn.Linear(hidden_size, 64)\n",
        "        self.fc4 = nn.Linear(64, output_size)\n",
        "        self.dropout = nn.Dropout(0.2)\n",
        "\n",
        "    def forward(self, x):\n",
        "        x = F.relu(self.fc1(x))\n",
        "        x = self.dropout(x)\n",
        "        x = F.relu(self.fc2(x))\n",
        "        x = self.dropout(x)\n",
        "        x = F.relu(self.fc3(x))\n",
        "        x = self.fc4(x)\n",
        "        return x\n",
        "\n",
        "print(\"Red neuronal definida\")"
      ]
    },
    {
      "cell_type": "markdown",
      "metadata": {
        "id": "z3XVhu-Uab5q"
      },
      "source": [
        "## Configuración de Hiperparámetros\n",
        "\n",
        "### Parámetros de Exploración\n",
        "- Epsilon inicial: 1.0 (100% exploración al inicio)\n",
        "- Epsilon mínimo: 0.01 (1% exploración permanente)\n",
        "- Decaimiento de epsilon: 0.995 (reducción gradual por episodio)\n",
        "\n",
        "### Parámetros de Aprendizaje\n",
        "- Factor de descuento (gamma): 0.95 (balance entre recompensas inmediatas y futuras)\n",
        "- Tasa de aprendizaje: 0.001 (velocidad de actualización de pesos)\n",
        "- Tamaño de lote: 32 (experiencias procesadas por actualización)\n",
        "\n",
        "### Configuración de Memoria\n",
        "- Buffer de experiencias: 10,000 elementos (diversidad de entrenamiento)\n",
        "- Frecuencia de actualización de red objetivo: cada 100 episodios"
      ]
    },
    {
      "cell_type": "code",
      "execution_count": 23,
      "metadata": {
        "colab": {
          "base_uri": "https://localhost:8080/"
        },
        "id": "uiJuDqNUV0Dk",
        "outputId": "ee67e130-06dc-4bd6-a71f-3e3733431d42"
      },
      "outputs": [
        {
          "name": "stdout",
          "output_type": "stream",
          "text": [
            "Agente DQN implementado\n"
          ]
        }
      ],
      "source": [
        "# PARTE 4: AGENTE DQN\n",
        "class AgenteDQN:\n",
        "    def __init__(self, state_size=42, action_size=7, lr=0.001):\n",
        "        self.state_size = state_size\n",
        "        self.action_size = action_size\n",
        "        self.memoria = deque(maxlen=10000)\n",
        "        self.epsilon = 1.0\n",
        "        self.epsilon_min = 0.01\n",
        "        self.epsilon_decay = 0.995\n",
        "        self.gamma = 0.95\n",
        "        self.batch_size = 32\n",
        "\n",
        "        # Redes neuronales\n",
        "        self.q_network = DQN(state_size, 128, action_size)\n",
        "        self.target_network = DQN(state_size, 128, action_size)\n",
        "        self.optimizer = optim.Adam(self.q_network.parameters(), lr=lr)\n",
        "\n",
        "        # Copiar pesos a red objetivo\n",
        "        self.update_target()\n",
        "\n",
        "    def update_target(self):\n",
        "        self.target_network.load_state_dict(self.q_network.state_dict())\n",
        "\n",
        "    def remember(self, state, action, reward, next_state, done):\n",
        "        self.memoria.append((state, action, reward, next_state, done))\n",
        "\n",
        "    def act(self, state, valid_actions=None):\n",
        "        if valid_actions is None:\n",
        "            valid_actions = list(range(self.action_size))\n",
        "\n",
        "        # Exploración epsilon-greedy\n",
        "        if np.random.random() <= self.epsilon:\n",
        "            return random.choice(valid_actions)\n",
        "\n",
        "        # Explotación\n",
        "        state_tensor = torch.FloatTensor(state.flatten()).unsqueeze(0)\n",
        "        q_values = self.q_network(state_tensor)\n",
        "\n",
        "        # Filtrar acciones válidas\n",
        "        valid_q_values = [(q_values[0][action].item(), action) for action in valid_actions]\n",
        "        _, best_action = max(valid_q_values)\n",
        "\n",
        "        return best_action\n",
        "\n",
        "    def replay(self):\n",
        "        if len(self.memoria) < self.batch_size:\n",
        "            return\n",
        "\n",
        "        batch = random.sample(self.memoria, self.batch_size)\n",
        "        states = torch.FloatTensor([e[0].flatten() for e in batch])\n",
        "        actions = torch.LongTensor([e[1] for e in batch])\n",
        "        rewards = torch.FloatTensor([e[2] for e in batch])\n",
        "        next_states = torch.FloatTensor([e[3].flatten() for e in batch])\n",
        "        dones = torch.BoolTensor([e[4] for e in batch])\n",
        "\n",
        "        current_q_values = self.q_network(states).gather(1, actions.unsqueeze(1))\n",
        "        next_q_values = self.target_network(next_states).max(1)[0].detach()\n",
        "        target_q_values = rewards + (self.gamma * next_q_values * ~dones)\n",
        "\n",
        "        loss = F.mse_loss(current_q_values.squeeze(), target_q_values)\n",
        "\n",
        "        self.optimizer.zero_grad()\n",
        "        loss.backward()\n",
        "        self.optimizer.step()\n",
        "\n",
        "        if self.epsilon > self.epsilon_min:\n",
        "            self.epsilon *= self.epsilon_decay\n",
        "\n",
        "print(\"Agente DQN implementado\")"
      ]
    },
    {
      "cell_type": "markdown",
      "metadata": {
        "id": "fiKTtW8Ybpfb"
      },
      "source": [
        "## Proceso de Entrenamiento\n",
        "\n",
        "### Metodología de Entrenamiento\n",
        "El agente se entrena jugando contra un oponente que realiza movimientos aleatorios durante 1,500 episodios. En cada episodio:\n",
        "\n",
        "1. Se inicializa un nuevo juego\n",
        "2. El agente y el oponente alternan turnos\n",
        "3. El agente utiliza estrategia epsilon-greedy para seleccionar acciones\n",
        "4. Las experiencias se almacenan en el buffer de memoria\n",
        "5. La red neuronal se entrena con lotes aleatorios de experiencias pasadas\n",
        "\n",
        "### Experience Replay\n",
        "Se implementa experience replay para:\n",
        "- Romper la correlación temporal entre experiencias consecutivas\n",
        "- Reutilizar experiencias pasadas para un aprendizaje más eficiente\n",
        "- Estabilizar el proceso de entrenamiento"
      ]
    },
    {
      "cell_type": "markdown",
      "metadata": {
        "id": "7OQo3NYEc4Lz"
      },
      "source": [
        "## Técnicas de Estabilización del Entrenamiento\n",
        "\n",
        "### Red Objetivo (Target Network)\n",
        "Se utiliza una red objetivo separada que:\n",
        "- Es una copia de la red principal actualizada menos frecuentemente\n",
        "- Proporciona objetivos más estables para el cálculo de Q-valores\n",
        "- Reduce la correlación entre las predicciones y los objetivos de entrenamiento\n",
        "\n",
        "### Muestreo Aleatorio\n",
        "Las experiencias se muestrean aleatoriamente del buffer para:\n",
        "- Evitar que el agente aprenda secuencias específicas de juego\n",
        "- Mejorar la diversidad de los datos de entrenamiento\n",
        "- Aumentar la robustez del aprendizaje"
      ]
    },
    {
      "cell_type": "code",
      "execution_count": 24,
      "metadata": {
        "colab": {
          "base_uri": "https://localhost:8080/"
        },
        "id": "TP_YQiC-WAAi",
        "outputId": "00ccb616-9d0f-46d2-b108-188d7fb4bdda"
      },
      "outputs": [
        {
          "name": "stdout",
          "output_type": "stream",
          "text": [
            "Funciones de entrenamiento listas\n"
          ]
        }
      ],
      "source": [
        "# PARTE 5: FUNCIONES DE ENTRENAMIENTO\n",
        "def oponente_aleatorio(env):\n",
        "    acciones = env.get_acciones_validas()\n",
        "    return random.choice(acciones) if acciones else 0\n",
        "\n",
        "def entrenar_agente(agente, episodios=1000):\n",
        "    puntuaciones = []\n",
        "    victorias = 0\n",
        "    derrotas = 0\n",
        "    empates = 0\n",
        "    epsilons = []\n",
        "    \n",
        "    for episodio in tqdm(range(episodios)):\n",
        "        env = CuatroEnRaya()\n",
        "        state = env.reset()\n",
        "        puntuacion_total = 0\n",
        "        \n",
        "        while not env.terminado:\n",
        "            if env.jugador_actual == 1:  # Agente\n",
        "                valid_actions = env.get_acciones_validas()\n",
        "                action = agente.act(state, valid_actions)\n",
        "                next_state, reward, done, invalid = env.hacer_movimiento(action)\n",
        "                \n",
        "                if invalid:\n",
        "                    reward = -1\n",
        "                    done = True\n",
        "                \n",
        "                puntuacion_total += reward\n",
        "                agente.remember(state, action, reward, next_state, done)\n",
        "                state = next_state\n",
        "                \n",
        "                if done:\n",
        "                    if reward > 0:\n",
        "                        victorias += 1\n",
        "                    else:\n",
        "                        derrotas += 1\n",
        "                    break\n",
        "            \n",
        "            else:  # Oponente aleatorio\n",
        "                action = oponente_aleatorio(env)\n",
        "                next_state, reward, done, invalid = env.hacer_movimiento(action)\n",
        "                state = next_state\n",
        "                \n",
        "                if done:\n",
        "                    if reward > 0:\n",
        "                        puntuacion_total -= 1\n",
        "                        derrotas += 1\n",
        "                    else:\n",
        "                        empates += 1\n",
        "        \n",
        "        puntuaciones.append(puntuacion_total)\n",
        "        epsilons.append(agente.epsilon)\n",
        "        \n",
        "        agente.replay()\n",
        "        \n",
        "        if episodio % 100 == 0:\n",
        "            agente.update_target()\n",
        "    \n",
        "    return {\n",
        "        'puntuaciones': puntuaciones,\n",
        "        'epsilons': epsilons,\n",
        "        'victorias': victorias,\n",
        "        'derrotas': derrotas,\n",
        "        'empates': empates,\n",
        "        'episodios': episodios\n",
        "    }\n",
        "\n",
        "def mostrar_estadisticas(stats):\n",
        "    fig, axes = plt.subplots(2, 2, figsize=(12, 8))\n",
        "    \n",
        "    # Puntuaciones\n",
        "    axes[0, 0].plot(stats['puntuaciones'])\n",
        "    axes[0, 0].set_title('Puntuaciones por Episodio')\n",
        "    axes[0, 0].set_xlabel('Episodio')\n",
        "    axes[0, 0].set_ylabel('Puntuación')\n",
        "    axes[0, 0].grid(True)\n",
        "    \n",
        "    # Epsilon\n",
        "    axes[0, 1].plot(stats['epsilons'])\n",
        "    axes[0, 1].set_title('Evolución de Epsilon')\n",
        "    axes[0, 1].set_xlabel('Episodio')\n",
        "    axes[0, 1].set_ylabel('Epsilon')\n",
        "    axes[0, 1].grid(True)\n",
        "    \n",
        "    # Tasa de victoria\n",
        "    episodios = range(1, len(stats['puntuaciones']) + 1)\n",
        "    victorias_acum = np.cumsum([1 if p > 0 else 0 for p in stats['puntuaciones']])\n",
        "    tasa_victoria = [v / e * 100 for v, e in zip(victorias_acum, episodios)]\n",
        "    \n",
        "    axes[1, 0].plot(tasa_victoria)\n",
        "    axes[1, 0].set_title('Tasa de Victoria Acumulativa')\n",
        "    axes[1, 0].set_xlabel('Episodio')\n",
        "    axes[1, 0].set_ylabel('Tasa de Victoria (%)')\n",
        "    axes[1, 0].grid(True)\n",
        "    \n",
        "    # Distribución de resultados\n",
        "    resultados = ['Victorias', 'Derrotas', 'Empates']\n",
        "    valores = [stats['victorias'], stats['derrotas'], stats['empates']]\n",
        "    axes[1, 1].pie(valores, labels=resultados, autopct='%1.1f%%')\n",
        "    axes[1, 1].set_title('Distribución de Resultados')\n",
        "    \n",
        "    plt.tight_layout()\n",
        "    plt.show()\n",
        "\n",
        "print(\"Funciones de entrenamiento listas\")\n"
      ]
    },
    {
      "cell_type": "code",
      "execution_count": 25,
      "metadata": {
        "colab": {
          "base_uri": "https://localhost:8080/",
          "height": 701
        },
        "id": "EiDSgI54WCLa",
        "outputId": "e5881588-6a83-411d-e09d-8d0c3dd95f36"
      },
      "outputs": [
        {
          "name": "stdout",
          "output_type": "stream",
          "text": [
            "Iniciando entrenamiento...\n"
          ]
        },
        {
          "name": "stderr",
          "output_type": "stream",
          "text": [
            "100%|██████████| 1500/1500 [00:08<00:00, 178.39it/s]\n"
          ]
        },
        {
          "data": {
            "image/png": "[encoded data removed]",
            "text/plain": [
              "<Figure size 1200x800 with 4 Axes>"
            ]
          },
          "metadata": {},
          "output_type": "display_data"
        },
        {
          "name": "stdout",
          "output_type": "stream",
          "text": [
            "Tasa de victoria: 70.7%\n",
            "Victorias: 1061\n",
            "Derrotas: 439\n",
            "Empates: 0\n"
          ]
        }
      ],
      "source": [
        "# PARTE 6: ENTRENAMIENTO\n",
        "print(\"Iniciando entrenamiento...\")\n",
        "agente = AgenteDQN()\n",
        "estadisticas = entrenar_agente(agente, episodios=1500)\n",
        "\n",
        "# Mostrar resultados\n",
        "mostrar_estadisticas(estadisticas)\n",
        "\n",
        "tasa_victoria = estadisticas['victorias'] / estadisticas['episodios'] * 100\n",
        "print(f\"Tasa de victoria: {tasa_victoria:.1f}%\")\n",
        "print(f\"Victorias: {estadisticas['victorias']}\")\n",
        "print(f\"Derrotas: {estadisticas['derrotas']}\")\n",
        "print(f\"Empates: {estadisticas['empates']}\")\n"
      ]
    },
    {
      "cell_type": "markdown",
      "metadata": {
        "id": "KGEzJvOtc7ZJ"
      },
      "source": [
        "## Métricas de Evaluación\n",
        "\n",
        "### Métricas de Entrenamiento\n",
        "Durante el entrenamiento se monitorean:\n",
        "- Puntuación por episodio (recompensa acumulada)\n",
        "- Tasa de victoria acumulativa\n",
        "- Evolución del parámetro epsilon\n",
        "- Distribución de resultados (victorias, derrotas, empates)\n",
        "\n",
        "### Evaluación Final\n",
        "Al completar el entrenamiento se evalúa el agente sin exploración (epsilon=0) para medir su rendimiento real en:\n",
        "- Tasa de victoria contra oponente aleatorio\n",
        "- Consistencia en la toma de decisiones\n",
        "- Capacidad de evitar movimientos inválidos"
      ]
    },
    {
      "cell_type": "code",
      "execution_count": 26,
      "metadata": {
        "colab": {
          "base_uri": "https://localhost:8080/"
        },
        "id": "dSi-VsN3WFgq",
        "outputId": "e3146981-b170-43b0-a0ce-5943f715708e"
      },
      "outputs": [
        {
          "name": "stdout",
          "output_type": "stream",
          "text": [
            "Evaluando agente...\n",
            "Evaluación en 200 juegos:\n",
            "Victorias: 143 (71.5%)\n",
            "Derrotas: 57 (28.5%)\n",
            "Empates: 0 (0.0%)\n"
          ]
        }
      ],
      "source": [
        "# PARTE 7: EVALUACIÓN\n",
        "def evaluar_agente(agente, juegos=100):\n",
        "    epsilon_original = agente.epsilon\n",
        "    agente.epsilon = 0  # Sin exploración\n",
        "\n",
        "    victorias = 0\n",
        "    derrotas = 0\n",
        "    empates = 0\n",
        "\n",
        "    for juego in range(juegos):\n",
        "        env = CuatroEnRaya()\n",
        "        state = env.reset()\n",
        "\n",
        "        while not env.terminado:\n",
        "            if env.jugador_actual == 1:\n",
        "                valid_actions = env.get_acciones_validas()\n",
        "                action = agente.act(state, valid_actions)\n",
        "                state, reward, done, invalid = env.hacer_movimiento(action)\n",
        "\n",
        "                if done and reward > 0:\n",
        "                    victorias += 1\n",
        "                elif done and invalid:\n",
        "                    derrotas += 1\n",
        "            else:\n",
        "                action = oponente_aleatorio(env)\n",
        "                state, reward, done, invalid = env.hacer_movimiento(action)\n",
        "\n",
        "                if done:\n",
        "                    if reward > 0:\n",
        "                        derrotas += 1\n",
        "                    elif reward == 0:\n",
        "                        empates += 1\n",
        "\n",
        "    agente.epsilon = epsilon_original\n",
        "\n",
        "    print(f\"Evaluación en {juegos} juegos:\")\n",
        "    print(f\"Victorias: {victorias} ({victorias/juegos*100:.1f}%)\")\n",
        "    print(f\"Derrotas: {derrotas} ({derrotas/juegos*100:.1f}%)\")\n",
        "    print(f\"Empates: {empates} ({empates/juegos*100:.1f}%)\")\n",
        "\n",
        "    return victorias / juegos * 100\n",
        "\n",
        "# Evaluar agente entrenado\n",
        "print(\"Evaluando agente...\")\n",
        "tasa_final = evaluar_agente(agente, 200)\n"
      ]
    },
    {
      "cell_type": "markdown",
      "metadata": {
        "id": "X_aDRxxzdDyx"
      },
      "source": [
        "## Análisis de Resultados\n",
        "\n",
        "### Interpretación del Rendimiento\n",
        "Los resultados obtenidos permiten evaluar:\n",
        "- Efectividad del algoritmo DQN para este problema\n",
        "- Impacto de la estrategia epsilon-greedy en el aprendizaje\n",
        "- Convergencia del agente hacia estrategias ganadoras\n",
        "- Estabilidad del entrenamiento con las técnicas implementadas\n",
        "\n",
        "### Indicadores de Éxito\n",
        "Un agente exitoso debe demostrar:\n",
        "- Tasa de victoria superior al 50% (mejor que aleatorio)\n",
        "- Reducción de movimientos inválidos cerca de cero\n",
        "- Convergencia estable de la función de valor\n",
        "- Capacidad de generalización a diferentes situaciones de juego"
      ]
    },
    {
      "cell_type": "code",
      "execution_count": 27,
      "metadata": {
        "colab": {
          "base_uri": "https://localhost:8080/"
        },
        "id": "ArzEfvNtWHic",
        "outputId": "04f9ba5a-04ef-40eb-cf48-23dca256216f"
      },
      "outputs": [
        {
          "name": "stdout",
          "output_type": "stream",
          "text": [
            "Ejemplo de partida:\n",
            "  0 1 2 3 4 5 6\n",
            "| . . . . . . . |\n",
            "| . . . . . . . |\n",
            "| . . . . . . . |\n",
            "| . . . . . . . |\n",
            "| . . . . . . . |\n",
            "| . . . . . . . |\n",
            "---------------\n",
            "Turno 1: Agente juega columna 0\n",
            "  0 1 2 3 4 5 6\n",
            "| . . . . . . . |\n",
            "| . . . . . . . |\n",
            "| . . . . . . . |\n",
            "| . . . . . . . |\n",
            "| . . . . . . . |\n",
            "| X . . . . . . |\n",
            "---------------\n",
            "Turno 2: Oponente juega columna 5\n",
            "  0 1 2 3 4 5 6\n",
            "| . . . . . . . |\n",
            "| . . . . . . . |\n",
            "| . . . . . . . |\n",
            "| . . . . . . . |\n",
            "| . . . . . . . |\n",
            "| X . . . . O . |\n",
            "---------------\n",
            "Turno 3: Agente juega columna 1\n",
            "  0 1 2 3 4 5 6\n",
            "| . . . . . . . |\n",
            "| . . . . . . . |\n",
            "| . . . . . . . |\n",
            "| . . . . . . . |\n",
            "| . . . . . . . |\n",
            "| X X . . . O . |\n",
            "---------------\n",
            "Turno 4: Oponente juega columna 2\n",
            "  0 1 2 3 4 5 6\n",
            "| . . . . . . . |\n",
            "| . . . . . . . |\n",
            "| . . . . . . . |\n",
            "| . . . . . . . |\n",
            "| . . . . . . . |\n",
            "| X X O . . O . |\n",
            "---------------\n",
            "Turno 5: Agente juega columna 6\n",
            "  0 1 2 3 4 5 6\n",
            "| . . . . . . . |\n",
            "| . . . . . . . |\n",
            "| . . . . . . . |\n",
            "| . . . . . . . |\n",
            "| . . . . . . . |\n",
            "| X X O . . O X |\n",
            "---------------\n",
            "Turno 6: Oponente juega columna 1\n",
            "  0 1 2 3 4 5 6\n",
            "| . . . . . . . |\n",
            "| . . . . . . . |\n",
            "| . . . . . . . |\n",
            "| . . . . . . . |\n",
            "| . O . . . . . |\n",
            "| X X O . . O X |\n",
            "---------------\n",
            "Turno 7: Agente juega columna 1\n",
            "  0 1 2 3 4 5 6\n",
            "| . . . . . . . |\n",
            "| . . . . . . . |\n",
            "| . . . . . . . |\n",
            "| . X . . . . . |\n",
            "| . O . . . . . |\n",
            "| X X O . . O X |\n",
            "---------------\n",
            "Turno 8: Oponente juega columna 1\n",
            "  0 1 2 3 4 5 6\n",
            "| . . . . . . . |\n",
            "| . . . . . . . |\n",
            "| . O . . . . . |\n",
            "| . X . . . . . |\n",
            "| . O . . . . . |\n",
            "| X X O . . O X |\n",
            "---------------\n",
            "Turno 9: Agente juega columna 1\n",
            "  0 1 2 3 4 5 6\n",
            "| . . . . . . . |\n",
            "| . X . . . . . |\n",
            "| . O . . . . . |\n",
            "| . X . . . . . |\n",
            "| . O . . . . . |\n",
            "| X X O . . O X |\n",
            "---------------\n",
            "Turno 10: Oponente juega columna 1\n",
            "  0 1 2 3 4 5 6\n",
            "| . O . . . . . |\n",
            "| . X . . . . . |\n",
            "| . O . . . . . |\n",
            "| . X . . . . . |\n",
            "| . O . . . . . |\n",
            "| X X O . . O X |\n",
            "---------------\n",
            "Turno 11: Agente juega columna 6\n",
            "  0 1 2 3 4 5 6\n",
            "| . O . . . . . |\n",
            "| . X . . . . . |\n",
            "| . O . . . . . |\n",
            "| . X . . . . . |\n",
            "| . O . . . . X |\n",
            "| X X O . . O X |\n",
            "---------------\n",
            "Turno 12: Oponente juega columna 0\n",
            "  0 1 2 3 4 5 6\n",
            "| . O . . . . . |\n",
            "| . X . . . . . |\n",
            "| . O . . . . . |\n",
            "| . X . . . . . |\n",
            "| O O . . . . X |\n",
            "| X X O . . O X |\n",
            "---------------\n",
            "Turno 13: Agente juega columna 4\n",
            "  0 1 2 3 4 5 6\n",
            "| . O . . . . . |\n",
            "| . X . . . . . |\n",
            "| . O . . . . . |\n",
            "| . X . . . . . |\n",
            "| O O . . . . X |\n",
            "| X X O . X O X |\n",
            "---------------\n",
            "Turno 14: Oponente juega columna 2\n",
            "  0 1 2 3 4 5 6\n",
            "| . O . . . . . |\n",
            "| . X . . . . . |\n",
            "| . O . . . . . |\n",
            "| . X . . . . . |\n",
            "| O O O . . . X |\n",
            "| X X O . X O X |\n",
            "---------------\n",
            "Turno 15: Agente juega columna 3\n",
            "  0 1 2 3 4 5 6\n",
            "| . O . . . . . |\n",
            "| . X . . . . . |\n",
            "| . O . . . . . |\n",
            "| . X . . . . . |\n",
            "| O O O . . . X |\n",
            "| X X O X X O X |\n",
            "---------------\n",
            "Turno 16: Oponente juega columna 6\n",
            "  0 1 2 3 4 5 6\n",
            "| . O . . . . . |\n",
            "| . X . . . . . |\n",
            "| . O . . . . . |\n",
            "| . X . . . . O |\n",
            "| O O O . . . X |\n",
            "| X X O X X O X |\n",
            "---------------\n",
            "Turno 17: Agente juega columna 6\n",
            "  0 1 2 3 4 5 6\n",
            "| . O . . . . . |\n",
            "| . X . . . . . |\n",
            "| . O . . . . X |\n",
            "| . X . . . . O |\n",
            "| O O O . . . X |\n",
            "| X X O X X O X |\n",
            "---------------\n",
            "Turno 18: Oponente juega columna 3\n",
            "  0 1 2 3 4 5 6\n",
            "| . O . . . . . |\n",
            "| . X . . . . . |\n",
            "| . O . . . . X |\n",
            "| . X . . . . O |\n",
            "| O O O O . . X |\n",
            "| X X O X X O X |\n",
            "---------------\n",
            "Gana: Oponente\n"
          ]
        }
      ],
      "source": [
        "# PARTE 8: EJEMPLO DE PARTIDA\n",
        "def mostrar_partida_ejemplo(agente):\n",
        "    print(\"Ejemplo de partida:\")\n",
        "    epsilon_original = agente.epsilon\n",
        "    agente.epsilon = 0\n",
        "\n",
        "    env = CuatroEnRaya()\n",
        "    state = env.reset()\n",
        "    env.mostrar()\n",
        "\n",
        "    turno = 1\n",
        "    while not env.terminado:\n",
        "        if env.jugador_actual == 1:\n",
        "            valid_actions = env.get_acciones_validas()\n",
        "            action = agente.act(state, valid_actions)\n",
        "            print(f\"Turno {turno}: Agente juega columna {action}\")\n",
        "        else:\n",
        "            action = oponente_aleatorio(env)\n",
        "            print(f\"Turno {turno}: Oponente juega columna {action}\")\n",
        "\n",
        "        state, reward, done, invalid = env.hacer_movimiento(action)\n",
        "        env.mostrar()\n",
        "        turno += 1\n",
        "\n",
        "        if done:\n",
        "            if reward > 0:\n",
        "                ganador = \"Agente\" if env.jugador_actual == 2 else \"Oponente\"\n",
        "                print(f\"Gana: {ganador}\")\n",
        "            else:\n",
        "                print(\"Empate\")\n",
        "            break\n",
        "\n",
        "    agente.epsilon = epsilon_original\n",
        "\n",
        "mostrar_partida_ejemplo(agente)\n"
      ]
    },
    {
      "cell_type": "code",
      "execution_count": 28,
      "metadata": {
        "colab": {
          "base_uri": "https://localhost:8080/"
        },
        "id": "ablGTJBJWJFB",
        "outputId": "45dc7881-56ed-4ab6-b044-06662cf1f326"
      },
      "outputs": [
        {
          "name": "stdout",
          "output_type": "stream",
          "text": [
            "Modelo guardado como 'modelo_cuatro_en_raya.pth'\n"
          ]
        }
      ],
      "source": [
        "# PARTE 9: GUARDAR MODELO\n",
        "torch.save(agente.q_network.state_dict(), 'modelo_cuatro_en_raya.pth')\n",
        "print(\"Modelo guardado como 'modelo_cuatro_en_raya.pth'\")\n"
      ]
    },
    {
      "cell_type": "code",
      "execution_count": 29,
      "metadata": {
        "colab": {
          "base_uri": "https://localhost:8080/"
        },
        "id": "LjViaf7dWOHE",
        "outputId": "0490a9f2-de56-4fac-a322-d4a1aae912ae"
      },
      "outputs": [
        {
          "name": "stdout",
          "output_type": "stream",
          "text": [
            "\n",
            "REPORTE FINAL\n",
            "==================================================\n",
            "OBJETIVO: Desarrollar agente RL para Cuatro en Raya\n",
            "ALGORITMO: Deep Q-Network (DQN) con PyTorch\n",
            "ESTRATEGIA: Epsilon-greedy para exploración vs explotación\n",
            "EPISODIOS ENTRENADOS: 1500\n",
            "TASA DE VICTORIA ENTRENAMIENTO: 70.7%\n",
            "TASA DE VICTORIA EVALUACIÓN: 71.5%\n",
            "EPSILON FINAL: 0.0100\n",
            "RESULTADO: EXCELENTE - Agente domina el juego\n",
            "\n",
            "CONCEPTOS APLICADOS:\n",
            "- Exploración vs Explotación (epsilon-greedy)\n",
            "- Q-Learning con aproximación de función (redes neuronales)\n",
            "- Experience replay para estabilizar entrenamiento\n",
            "- Red objetivo para reducir correlación temporal\n",
            "- Optimización con gradiente descendente\n",
            "\n",
            "PROYECTO COMPLETADO EXITOSAMENTE\n"
          ]
        }
      ],
      "source": [
        "# PARTE 10: REPORTE FINAL\n",
        "print(\"\\nREPORTE FINAL\")\n",
        "print(\"=\" * 50)\n",
        "print(\"OBJETIVO: Desarrollar agente RL para Cuatro en Raya\")\n",
        "print(\"ALGORITMO: Deep Q-Network (DQN) con PyTorch\")\n",
        "print(\"ESTRATEGIA: Epsilon-greedy para exploración vs explotación\")\n",
        "print(f\"EPISODIOS ENTRENADOS: {estadisticas['episodios']}\")\n",
        "print(f\"TASA DE VICTORIA ENTRENAMIENTO: {tasa_victoria:.1f}%\")\n",
        "print(f\"TASA DE VICTORIA EVALUACIÓN: {tasa_final:.1f}%\")\n",
        "print(f\"EPSILON FINAL: {estadisticas['epsilons'][-1]:.4f}\")\n",
        "\n",
        "if tasa_final > 70:\n",
        "    print(\"RESULTADO: EXCELENTE - Agente domina el juego\")\n",
        "elif tasa_final > 50:\n",
        "    print(\"RESULTADO: BUENO - Agente aprendió estrategias efectivas\")\n",
        "else:\n",
        "    print(\"RESULTADO: REGULAR - Agente necesita más entrenamiento\")\n",
        "\n",
        "print(\"\\nCONCEPTOS APLICADOS:\")\n",
        "print(\"- Exploración vs Explotación (epsilon-greedy)\")\n",
        "print(\"- Q-Learning con aproximación de función (redes neuronales)\")\n",
        "print(\"- Experience replay para estabilizar entrenamiento\")\n",
        "print(\"- Red objetivo para reducir correlación temporal\")\n",
        "print(\"- Optimización con gradiente descendente\")\n",
        "\n",
        "print(\"\\nPROYECTO COMPLETADO EXITOSAMENTE\")"
      ]
    },
    {
      "cell_type": "markdown",
      "metadata": {
        "id": "0QaTMvX8dIbx"
      },
      "source": [
        "## Conclusiones del Proyecto\n",
        "\n",
        "### Logros Alcanzados\n",
        "Este proyecto demuestra exitosamente:\n",
        "- Implementación completa de un agente DQN funcional\n",
        "- Aplicación efectiva de conceptos de aprendizaje por refuerzo\n",
        "- Solución del dilema exploración vs explotación mediante epsilon-greedy\n",
        "- Uso de técnicas avanzadas como experience replay y redes objetivo\n",
        "\n",
        "### Contribución Académica\n",
        "El trabajo ilustra cómo los algoritmos de aprendizaje por refuerzo pueden resolver problemas de toma de decisiones secuenciales complejos, proporcionando una base sólida para la comprensión de estos métodos en aplicaciones de inteligencia artificial.\n",
        "\n",
        "### Aprendizajes Obtenidos\n",
        "La implementación refuerza la comprensión de conceptos fundamentales como la ecuación de Bellman, la importancia del balance exploración-explotación, y el papel crítico de los hiperparámetros en el éxito del entrenamiento."
      ]
    },
    {
      "cell_type": "code",
      "execution_count": 30,
      "metadata": {
        "colab": {
          "base_uri": "https://localhost:8080/"
        },
        "id": "CJk6vPemWY77",
        "outputId": "a1c22fa6-4c99-4a9f-a9ab-2bf6c03071fd"
      },
      "outputs": [
        {
          "name": "stdout",
          "output_type": "stream",
          "text": [
            "Para jugar contra el agente: jugar_contra_agente(agente)\n"
          ]
        }
      ],
      "source": [
        "# FUNCIÓN OPCIONAL: JUGAR CONTRA EL AGENTE\n",
        "def jugar_contra_agente(agente):\n",
        "    print(\"Juega contra el agente (tu eres X, agente es O)\")\n",
        "    epsilon_original = agente.epsilon\n",
        "    agente.epsilon = 0\n",
        "\n",
        "    env = CuatroEnRaya()\n",
        "    state = env.reset()\n",
        "    env.mostrar()\n",
        "\n",
        "    while not env.terminado:\n",
        "        if env.jugador_actual == 1:  # Humano\n",
        "            try:\n",
        "                col = int(input(\"Tu turno - Elige columna (0-6): \"))\n",
        "                if col not in env.get_acciones_validas():\n",
        "                    print(\"Columna inválida\")\n",
        "                    continue\n",
        "            except:\n",
        "                print(\"Número inválido\")\n",
        "                continue\n",
        "        else:  # Agente\n",
        "            valid_actions = env.get_acciones_validas()\n",
        "            col = agente.act(state, valid_actions)\n",
        "            print(f\"Agente elige columna: {col}\")\n",
        "\n",
        "        state, reward, done, invalid = env.hacer_movimiento(col)\n",
        "        env.mostrar()\n",
        "\n",
        "    agente.epsilon = epsilon_original\n",
        "\n",
        "print(\"Para jugar contra el agente: jugar_contra_agente(agente)\")"
      ]
    },
    {
      "cell_type": "code",
      "execution_count": 32,
      "metadata": {
        "colab": {
          "base_uri": "https://localhost:8080/"
        },
        "id": "CmQQSYeMXmdR",
        "outputId": "72f04f37-7204-41c7-8add-ad086a2d5a37"
      },
      "outputs": [
        {
          "name": "stdout",
          "output_type": "stream",
          "text": [
            "Juega contra el agente (tu eres X, agente es O)\n",
            "  0 1 2 3 4 5 6\n",
            "| . . . . . . . |\n",
            "| . . . . . . . |\n",
            "| . . . . . . . |\n",
            "| . . . . . . . |\n",
            "| . . . . . . . |\n",
            "| . . . . . . . |\n",
            "---------------\n",
            "  0 1 2 3 4 5 6\n",
            "| . . . . . . . |\n",
            "| . . . . . . . |\n",
            "| . . . . . . . |\n",
            "| . . . . . . . |\n",
            "| . . . . . . . |\n",
            "| . . . . . X . |\n",
            "---------------\n",
            "Agente elige columna: 1\n",
            "  0 1 2 3 4 5 6\n",
            "| . . . . . . . |\n",
            "| . . . . . . . |\n",
            "| . . . . . . . |\n",
            "| . . . . . . . |\n",
            "| . . . . . . . |\n",
            "| . O . . . X . |\n",
            "---------------\n",
            "  0 1 2 3 4 5 6\n",
            "| . . . . . . . |\n",
            "| . . . . . . . |\n",
            "| . . . . . . . |\n",
            "| . . . . . . . |\n",
            "| . . . . . X . |\n",
            "| . O . . . X . |\n",
            "---------------\n",
            "Agente elige columna: 1\n",
            "  0 1 2 3 4 5 6\n",
            "| . . . . . . . |\n",
            "| . . . . . . . |\n",
            "| . . . . . . . |\n",
            "| . . . . . . . |\n",
            "| . O . . . X . |\n",
            "| . O . . . X . |\n",
            "---------------\n",
            "  0 1 2 3 4 5 6\n",
            "| . . . . . . . |\n",
            "| . . . . . . . |\n",
            "| . . . . . . . |\n",
            "| . . . . . X . |\n",
            "| . O . . . X . |\n",
            "| . O . . . X . |\n",
            "---------------\n",
            "Agente elige columna: 4\n",
            "  0 1 2 3 4 5 6\n",
            "| . . . . . . . |\n",
            "| . . . . . . . |\n",
            "| . . . . . . . |\n",
            "| . . . . . X . |\n",
            "| . O . . . X . |\n",
            "| . O . . O X . |\n",
            "---------------\n",
            "  0 1 2 3 4 5 6\n",
            "| . . . . . . . |\n",
            "| . . . . . . . |\n",
            "| . . . . . X . |\n",
            "| . . . . . X . |\n",
            "| . O . . . X . |\n",
            "| . O . . O X . |\n",
            "---------------\n"
          ]
        }
      ],
      "source": [
        "jugar_contra_agente(agente)"
      ]
    },
    {
      "cell_type": "markdown",
      "metadata": {
        "id": "HaTJRQkVdLZB"
      },
      "source": [
        "Si quiere volver a jugar, excriba en una casilla de texto: jugar_contra_agente(agente) o vuelva a ejecutar la casilla de arriba"
      ]
    }
  ],
  "metadata": {
    "colab": {
      "provenance": []
    },
    "kernelspec": {
      "display_name": "Python 3",
      "name": "python3"
    },
    "language_info": {
      "codemirror_mode": {
        "name": "ipython",
        "version": 3
      },
      "file_extension": ".py",
      "mimetype": "text/x-python",
      "name": "python",
      "nbconvert_exporter": "python",
      "pygments_lexer": "ipython3",
      "version": "3.11.9"
    }
  },
  "nbformat": 4,
  "nbformat_minor": 0
}
