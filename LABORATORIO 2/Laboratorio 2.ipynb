{
 "cells": [
  {
   "cell_type": "code",
   "execution_count": null,
   "metadata": {},
   "outputs": [],
   "source": [
    "# ============================================================\n",
    "# 1. Importación de librerías\n",
    "# ============================================================\n",
    "import numpy as np\n",
    "import torch\n",
    "from torchvision.datasets import ImageFolder\n",
    "from torchvision import transforms\n",
    "from sklearn.model_selection import train_test_split\n",
    "from sklearn.metrics import accuracy_score\n",
    "import matplotlib.pyplot as plt"
   ]
  },
  {
   "cell_type": "code",
   "execution_count": 53,
   "metadata": {},
   "outputs": [
    {
     "name": "stdout",
     "output_type": "stream",
     "text": [
      "\n",
      "Datos del Dataset:\n",
      "Total de imágenes: 18724\n",
      "Clases: ['A', 'B', 'C', 'D', 'E', 'F', 'G', 'H', 'I', 'J']\n"
     ]
    }
   ],
   "source": [
    "# ============================================================\n",
    "# 2. Carga del dataset\n",
    "# ============================================================\n",
    "transform = transforms.Compose([\n",
    "    transforms.Grayscale(num_output_channels=1),  \n",
    "    transforms.ToTensor()  \n",
    "])\n",
    "dataset = ImageFolder(r\"C:\\Users\\MSI LAPTOP\\datasets\\notMNIST_small\", transform=transform)\n",
    "\n",
    "print(\"\\nDatos del Dataset:\")\n",
    "print(\"Total de imágenes:\", len(dataset))\n",
    "print(\"Clases:\", dataset.classes)\n",
    "\n",
    "\n"
   ]
  },
  {
   "cell_type": "code",
   "execution_count": 56,
   "metadata": {},
   "outputs": [
    {
     "name": "stdout",
     "output_type": "stream",
     "text": [
      "(tensor([[[0.0000, 0.0000, 0.0000, 0.0000, 0.0000, 0.0000, 0.0000, 0.0000,\n",
      "          0.0000, 0.0000, 0.0471, 0.0431, 0.0039, 0.0000, 0.0353, 0.0196,\n",
      "          0.0000, 0.0039, 0.0000, 0.0000, 0.0000, 0.0000, 0.0000, 0.0000,\n",
      "          0.0000, 0.0000, 0.0000, 0.0000],\n",
      "         [0.0000, 0.0000, 0.0000, 0.0000, 0.0000, 0.0000, 0.0000, 0.0000,\n",
      "          0.0000, 0.0000, 0.0588, 0.0902, 0.3216, 0.4549, 0.2392, 0.3490,\n",
      "          0.1412, 0.0000, 0.0039, 0.0000, 0.0000, 0.0000, 0.0000, 0.0000,\n",
      "          0.0000, 0.0000, 0.0000, 0.0000],\n",
      "         [0.0000, 0.0000, 0.0000, 0.0000, 0.0000, 0.0000, 0.0000, 0.0000,\n",
      "          0.0078, 0.0000, 0.2745, 0.6196, 0.7686, 1.0000, 0.8706, 0.8863,\n",
      "          0.4863, 0.1216, 0.0078, 0.0000, 0.0000, 0.0000, 0.0000, 0.0000,\n",
      "          0.0000, 0.0000, 0.0000, 0.0000],\n",
      "         [0.0000, 0.0000, 0.0000, 0.0000, 0.0000, 0.0000, 0.0000, 0.0078,\n",
      "          0.0000, 0.1725, 0.5686, 0.8000, 1.0000, 0.9804, 0.9922, 1.0000,\n",
      "          0.8941, 0.5451, 0.0000, 0.0039, 0.0000, 0.0000, 0.0000, 0.0000,\n",
      "          0.0000, 0.0000, 0.0000, 0.0000],\n",
      "         [0.0000, 0.0000, 0.0000, 0.0000, 0.0000, 0.0000, 0.0000, 0.0078,\n",
      "          0.0000, 0.1804, 0.5333, 0.9451, 0.9961, 0.9961, 0.9922, 0.9961,\n",
      "          0.9608, 0.6314, 0.1608, 0.0118, 0.0000, 0.0000, 0.0000, 0.0000,\n",
      "          0.0000, 0.0000, 0.0000, 0.0000],\n",
      "         [0.0000, 0.0000, 0.0000, 0.0000, 0.0000, 0.0000, 0.0000, 0.0196,\n",
      "          0.0000, 0.3294, 0.9961, 0.9961, 0.9961, 1.0000, 1.0000, 1.0000,\n",
      "          0.9412, 0.9137, 0.5059, 0.0000, 0.0000, 0.0039, 0.0000, 0.0000,\n",
      "          0.0000, 0.0000, 0.0000, 0.0000],\n",
      "         [0.0000, 0.0000, 0.0000, 0.0000, 0.0000, 0.0000, 0.0078, 0.0000,\n",
      "          0.2980, 0.7098, 0.9059, 0.9882, 1.0000, 1.0000, 1.0000, 0.9961,\n",
      "          1.0000, 0.9569, 0.5176, 0.1216, 0.0000, 0.0039, 0.0000, 0.0000,\n",
      "          0.0000, 0.0000, 0.0000, 0.0000],\n",
      "         [0.0000, 0.0000, 0.0000, 0.0000, 0.0000, 0.0000, 0.0118, 0.0000,\n",
      "          0.5098, 0.7059, 0.9569, 1.0000, 0.9882, 0.9882, 1.0000, 0.9922,\n",
      "          1.0000, 0.8588, 0.8667, 0.2314, 0.0000, 0.0118, 0.0000, 0.0000,\n",
      "          0.0000, 0.0000, 0.0000, 0.0000],\n",
      "         [0.0000, 0.0000, 0.0000, 0.0000, 0.0000, 0.0000, 0.0157, 0.0471,\n",
      "          0.5412, 0.8667, 1.0000, 0.9961, 0.9922, 0.9725, 0.9255, 0.9922,\n",
      "          0.9961, 1.0000, 0.9216, 0.4392, 0.0000, 0.0078, 0.0000, 0.0000,\n",
      "          0.0000, 0.0000, 0.0000, 0.0000],\n",
      "         [0.0000, 0.0000, 0.0000, 0.0000, 0.0000, 0.0039, 0.0000, 0.1843,\n",
      "          0.7333, 1.0000, 0.9922, 1.0000, 0.9529, 0.7176, 0.7333, 0.8000,\n",
      "          1.0000, 0.9922, 0.9961, 0.5686, 0.2706, 0.0000, 0.0039, 0.0000,\n",
      "          0.0000, 0.0000, 0.0000, 0.0000],\n",
      "         [0.0000, 0.0000, 0.0000, 0.0039, 0.0000, 0.0510, 0.1255, 0.6706,\n",
      "          0.8118, 1.0000, 0.9922, 1.0000, 0.7765, 0.0667, 0.3961, 0.7216,\n",
      "          0.9490, 1.0000, 1.0000, 0.8784, 0.5490, 0.1529, 0.0000, 0.0078,\n",
      "          0.0000, 0.0000, 0.0000, 0.0000],\n",
      "         [0.0000, 0.0000, 0.0000, 0.0039, 0.0000, 0.1333, 0.0392, 0.5412,\n",
      "          1.0000, 0.9843, 0.9961, 0.9922, 0.5255, 0.0078, 0.2667, 0.6627,\n",
      "          0.9608, 1.0000, 1.0000, 0.9686, 0.6078, 0.2706, 0.0000, 0.0078,\n",
      "          0.0000, 0.0000, 0.0000, 0.0000],\n",
      "         [0.0000, 0.0000, 0.0000, 0.0000, 0.0118, 0.0667, 0.3490, 0.9255,\n",
      "          0.9490, 1.0000, 1.0000, 0.8314, 0.4392, 0.0784, 0.0157, 0.4039,\n",
      "          0.7451, 0.8745, 1.0000, 1.0000, 0.8745, 0.2980, 0.0588, 0.0000,\n",
      "          0.0039, 0.0000, 0.0000, 0.0000],\n",
      "         [0.0000, 0.0000, 0.0000, 0.0000, 0.0118, 0.0824, 0.6863, 0.9882,\n",
      "          0.9922, 0.9961, 0.9294, 0.5882, 0.2118, 0.0000, 0.0078, 0.1373,\n",
      "          0.6510, 0.9569, 0.9961, 1.0000, 0.9176, 0.5529, 0.2314, 0.0000,\n",
      "          0.0039, 0.0000, 0.0000, 0.0000],\n",
      "         [0.0000, 0.0000, 0.0000, 0.0039, 0.0000, 0.3020, 0.9059, 1.0000,\n",
      "          1.0000, 0.9961, 0.8627, 0.5373, 0.1490, 0.0000, 0.0314, 0.1255,\n",
      "          0.3922, 0.9725, 0.9922, 0.9922, 1.0000, 0.6549, 0.1216, 0.0980,\n",
      "          0.0157, 0.0000, 0.0000, 0.0000],\n",
      "         [0.0000, 0.0000, 0.0000, 0.0000, 0.1137, 0.2863, 0.7412, 1.0000,\n",
      "          1.0000, 0.9294, 0.7176, 0.3098, 0.0000, 0.0078, 0.0000, 0.0549,\n",
      "          0.3294, 0.6235, 1.0000, 0.9922, 0.9882, 1.0000, 0.3529, 0.0588,\n",
      "          0.0353, 0.0000, 0.0000, 0.0000],\n",
      "         [0.0000, 0.0000, 0.0039, 0.0118, 0.1686, 0.6745, 0.9647, 0.9961,\n",
      "          1.0000, 0.9647, 0.7922, 0.5608, 0.3804, 0.2392, 0.4549, 0.3255,\n",
      "          0.3725, 0.8824, 0.9294, 0.9922, 1.0000, 0.9765, 0.7294, 0.1490,\n",
      "          0.0157, 0.0000, 0.0000, 0.0000],\n",
      "         [0.0000, 0.0039, 0.0000, 0.0784, 0.3373, 0.8588, 0.9961, 1.0000,\n",
      "          1.0000, 0.9725, 0.9412, 0.8078, 0.7412, 0.9294, 0.6863, 0.7882,\n",
      "          0.8588, 0.9255, 0.9529, 0.9961, 1.0000, 0.9804, 0.9333, 0.2863,\n",
      "          0.0745, 0.0000, 0.0039, 0.0000],\n",
      "         [0.0000, 0.0118, 0.0118, 0.1843, 0.6039, 0.9216, 1.0000, 0.9961,\n",
      "          0.9961, 1.0000, 1.0000, 1.0000, 1.0000, 0.9961, 0.9608, 0.9922,\n",
      "          0.9765, 1.0000, 1.0000, 1.0000, 1.0000, 0.9882, 1.0000, 0.6667,\n",
      "          0.1333, 0.0157, 0.0000, 0.0000],\n",
      "         [0.0000, 0.0157, 0.0157, 0.4275, 0.8863, 0.8941, 1.0000, 0.9922,\n",
      "          1.0000, 0.9961, 0.9765, 0.9882, 1.0000, 0.9922, 0.9961, 0.9922,\n",
      "          1.0000, 1.0000, 0.9922, 0.9922, 1.0000, 0.9882, 1.0000, 0.8314,\n",
      "          0.1686, 0.0471, 0.0000, 0.0000],\n",
      "         [0.0039, 0.0000, 0.0667, 0.4980, 0.9725, 0.9569, 1.0000, 1.0000,\n",
      "          0.9843, 0.9804, 0.9804, 0.9843, 0.9137, 0.9922, 0.9098, 0.9490,\n",
      "          0.8863, 0.9686, 0.9882, 1.0000, 0.9961, 0.9961, 1.0000, 0.8667,\n",
      "          0.3333, 0.0863, 0.0000, 0.0039],\n",
      "         [0.0000, 0.0275, 0.3569, 0.7176, 0.9765, 1.0000, 0.9961, 0.9765,\n",
      "          0.5647, 0.4667, 0.7686, 0.4549, 0.3294, 0.3961, 0.3294, 0.5647,\n",
      "          0.6000, 0.3020, 0.4784, 0.8118, 0.9647, 0.9529, 1.0000, 0.9961,\n",
      "          0.7608, 0.1373, 0.0000, 0.0078],\n",
      "         [0.0157, 0.1647, 0.4510, 0.8314, 1.0000, 0.9843, 1.0000, 0.6353,\n",
      "          0.2863, 0.1373, 0.0000, 0.0392, 0.0549, 0.0000, 0.0627, 0.0235,\n",
      "          0.1333, 0.0745, 0.0235, 0.4824, 0.7333, 0.8824, 1.0000, 0.9922,\n",
      "          0.8196, 0.6549, 0.0000, 0.0039],\n",
      "         [0.0510, 0.1922, 0.5961, 0.9804, 0.9961, 1.0000, 0.9333, 0.5098,\n",
      "          0.2078, 0.0275, 0.0000, 0.0078, 0.0039, 0.0157, 0.0039, 0.0039,\n",
      "          0.0000, 0.0078, 0.0000, 0.0627, 0.5216, 0.9451, 1.0000, 1.0000,\n",
      "          0.9255, 0.5725, 0.3804, 0.0157],\n",
      "         [0.1020, 0.3725, 0.8510, 1.0000, 0.9882, 0.9373, 0.6902, 0.3882,\n",
      "          0.0627, 0.0000, 0.0039, 0.0000, 0.0000, 0.0000, 0.0000, 0.0000,\n",
      "          0.0039, 0.0039, 0.0118, 0.0000, 0.2431, 0.8980, 0.9216, 0.9961,\n",
      "          0.9804, 0.8627, 0.5059, 0.0000],\n",
      "         [0.1686, 0.7176, 0.9843, 1.0000, 0.9255, 0.9412, 0.4784, 0.0902,\n",
      "          0.0549, 0.0000, 0.0000, 0.0000, 0.0000, 0.0000, 0.0000, 0.0000,\n",
      "          0.0000, 0.0000, 0.0039, 0.0000, 0.0824, 0.6627, 0.9490, 0.9529,\n",
      "          1.0000, 1.0000, 0.4902, 0.1569],\n",
      "         [0.1686, 0.4706, 0.4941, 0.5843, 0.8314, 0.5216, 0.0902, 0.0078,\n",
      "          0.0078, 0.0000, 0.0000, 0.0000, 0.0000, 0.0000, 0.0000, 0.0000,\n",
      "          0.0000, 0.0000, 0.0039, 0.0000, 0.1451, 0.2627, 0.6980, 0.7961,\n",
      "          0.5137, 0.7020, 0.3216, 0.0471],\n",
      "         [0.0157, 0.0980, 0.1255, 0.0196, 0.0471, 0.0353, 0.0039, 0.0039,\n",
      "          0.0000, 0.0000, 0.0000, 0.0000, 0.0000, 0.0000, 0.0000, 0.0000,\n",
      "          0.0000, 0.0000, 0.0000, 0.0000, 0.0353, 0.0745, 0.0157, 0.1176,\n",
      "          0.0431, 0.0314, 0.3020, 0.0510]]]), 0)\n"
     ]
    }
   ],
   "source": [
    "print(dataset[0])"
   ]
  },
  {
   "cell_type": "code",
   "execution_count": null,
   "metadata": {},
   "outputs": [
    {
     "ename": "KeyboardInterrupt",
     "evalue": "",
     "output_type": "error",
     "traceback": [
      "\u001b[31m---------------------------------------------------------------------------\u001b[39m",
      "\u001b[31mKeyboardInterrupt\u001b[39m                         Traceback (most recent call last)",
      "\u001b[36mCell\u001b[39m\u001b[36m \u001b[39m\u001b[32mIn[51]\u001b[39m\u001b[32m, line 7\u001b[39m\n\u001b[32m      4\u001b[39m \u001b[38;5;28;01mdef\u001b[39;00m\u001b[38;5;250m \u001b[39m\u001b[34mprocess_image\u001b[39m(img):\n\u001b[32m      5\u001b[39m     \u001b[38;5;28;01mreturn\u001b[39;00m img.view(-\u001b[32m1\u001b[39m)\n\u001b[32m----> \u001b[39m\u001b[32m7\u001b[39m X = torch.stack(\u001b[43m[\u001b[49m\u001b[43mprocess_image\u001b[49m\u001b[43m(\u001b[49m\u001b[43mimg\u001b[49m\u001b[43m)\u001b[49m\u001b[43m \u001b[49m\u001b[38;5;28;43;01mfor\u001b[39;49;00m\u001b[43m \u001b[49m\u001b[43mimg\u001b[49m\u001b[43m,\u001b[49m\u001b[43m \u001b[49m\u001b[43m_\u001b[49m\u001b[43m \u001b[49m\u001b[38;5;129;43;01min\u001b[39;49;00m\u001b[43m \u001b[49m\u001b[43mdataset\u001b[49m\u001b[43m]\u001b[49m)\n\u001b[32m      8\u001b[39m Y = torch.tensor([label \u001b[38;5;28;01mfor\u001b[39;00m _, label \u001b[38;5;129;01min\u001b[39;00m dataset])\n\u001b[32m     10\u001b[39m \u001b[38;5;28mprint\u001b[39m(X)\n",
      "\u001b[36mCell\u001b[39m\u001b[36m \u001b[39m\u001b[32mIn[51]\u001b[39m\u001b[32m, line 7\u001b[39m, in \u001b[36m<listcomp>\u001b[39m\u001b[34m(.0)\u001b[39m\n\u001b[32m      4\u001b[39m \u001b[38;5;28;01mdef\u001b[39;00m\u001b[38;5;250m \u001b[39m\u001b[34mprocess_image\u001b[39m(img):\n\u001b[32m      5\u001b[39m     \u001b[38;5;28;01mreturn\u001b[39;00m img.view(-\u001b[32m1\u001b[39m)\n\u001b[32m----> \u001b[39m\u001b[32m7\u001b[39m X = torch.stack(\u001b[43m[\u001b[49m\u001b[43mprocess_image\u001b[49m\u001b[43m(\u001b[49m\u001b[43mimg\u001b[49m\u001b[43m)\u001b[49m\u001b[43m \u001b[49m\u001b[38;5;28;43;01mfor\u001b[39;49;00m\u001b[43m \u001b[49m\u001b[43mimg\u001b[49m\u001b[43m,\u001b[49m\u001b[43m \u001b[49m\u001b[43m_\u001b[49m\u001b[43m \u001b[49m\u001b[38;5;129;43;01min\u001b[39;49;00m\u001b[43m \u001b[49m\u001b[43mdataset\u001b[49m\u001b[43m]\u001b[49m)\n\u001b[32m      8\u001b[39m Y = torch.tensor([label \u001b[38;5;28;01mfor\u001b[39;00m _, label \u001b[38;5;129;01min\u001b[39;00m dataset])\n\u001b[32m     10\u001b[39m \u001b[38;5;28mprint\u001b[39m(X)\n",
      "\u001b[36mFile \u001b[39m\u001b[32mc:\\Users\\MSI LAPTOP\\AppData\\Local\\Programs\\Python\\Python311\\Lib\\site-packages\\torchvision\\datasets\\folder.py:245\u001b[39m, in \u001b[36mDatasetFolder.__getitem__\u001b[39m\u001b[34m(self, index)\u001b[39m\n\u001b[32m    237\u001b[39m \u001b[38;5;250m\u001b[39m\u001b[33;03m\"\"\"\u001b[39;00m\n\u001b[32m    238\u001b[39m \u001b[33;03mArgs:\u001b[39;00m\n\u001b[32m    239\u001b[39m \u001b[33;03m    index (int): Index\u001b[39;00m\n\u001b[32m   (...)\u001b[39m\u001b[32m    242\u001b[39m \u001b[33;03m    tuple: (sample, target) where target is class_index of the target class.\u001b[39;00m\n\u001b[32m    243\u001b[39m \u001b[33;03m\"\"\"\u001b[39;00m\n\u001b[32m    244\u001b[39m path, target = \u001b[38;5;28mself\u001b[39m.samples[index]\n\u001b[32m--> \u001b[39m\u001b[32m245\u001b[39m sample = \u001b[38;5;28;43mself\u001b[39;49m\u001b[43m.\u001b[49m\u001b[43mloader\u001b[49m\u001b[43m(\u001b[49m\u001b[43mpath\u001b[49m\u001b[43m)\u001b[49m\n\u001b[32m    246\u001b[39m \u001b[38;5;28;01mif\u001b[39;00m \u001b[38;5;28mself\u001b[39m.transform \u001b[38;5;129;01mis\u001b[39;00m \u001b[38;5;129;01mnot\u001b[39;00m \u001b[38;5;28;01mNone\u001b[39;00m:\n\u001b[32m    247\u001b[39m     sample = \u001b[38;5;28mself\u001b[39m.transform(sample)\n",
      "\u001b[36mFile \u001b[39m\u001b[32mc:\\Users\\MSI LAPTOP\\AppData\\Local\\Programs\\Python\\Python311\\Lib\\site-packages\\torchvision\\datasets\\folder.py:284\u001b[39m, in \u001b[36mdefault_loader\u001b[39m\u001b[34m(path)\u001b[39m\n\u001b[32m    282\u001b[39m     \u001b[38;5;28;01mreturn\u001b[39;00m accimage_loader(path)\n\u001b[32m    283\u001b[39m \u001b[38;5;28;01melse\u001b[39;00m:\n\u001b[32m--> \u001b[39m\u001b[32m284\u001b[39m     \u001b[38;5;28;01mreturn\u001b[39;00m \u001b[43mpil_loader\u001b[49m\u001b[43m(\u001b[49m\u001b[43mpath\u001b[49m\u001b[43m)\u001b[49m\n",
      "\u001b[36mFile \u001b[39m\u001b[32mc:\\Users\\MSI LAPTOP\\AppData\\Local\\Programs\\Python\\Python311\\Lib\\site-packages\\torchvision\\datasets\\folder.py:262\u001b[39m, in \u001b[36mpil_loader\u001b[39m\u001b[34m(path)\u001b[39m\n\u001b[32m    260\u001b[39m \u001b[38;5;28;01mdef\u001b[39;00m\u001b[38;5;250m \u001b[39m\u001b[34mpil_loader\u001b[39m(path: \u001b[38;5;28mstr\u001b[39m) -> Image.Image:\n\u001b[32m    261\u001b[39m     \u001b[38;5;66;03m# open path as file to avoid ResourceWarning (https://github.com/python-pillow/Pillow/issues/835)\u001b[39;00m\n\u001b[32m--> \u001b[39m\u001b[32m262\u001b[39m     \u001b[38;5;28;01mwith\u001b[39;00m \u001b[38;5;28mopen\u001b[39m(path, \u001b[33m\"\u001b[39m\u001b[33mrb\u001b[39m\u001b[33m\"\u001b[39m) \u001b[38;5;28;01mas\u001b[39;00m f:\n\u001b[32m    263\u001b[39m         img = Image.open(f)\n\u001b[32m    264\u001b[39m         \u001b[38;5;28;01mreturn\u001b[39;00m img.convert(\u001b[33m\"\u001b[39m\u001b[33mRGB\u001b[39m\u001b[33m\"\u001b[39m)\n",
      "\u001b[31mKeyboardInterrupt\u001b[39m: "
     ]
    }
   ],
   "source": [
    "# ============================================================\n",
    "# 3. Procesamiento y extracción de datos y etiquetas\n",
    "# ============================================================\n",
    "def process_image(img):\n",
    "    return img.view(-1)\n",
    "\n",
    "X = torch.stack([process_image(img) for img, _ in dataset])\n",
    "Y = torch.tensor([label for _, label in dataset])\n"
   ]
  },
  {
   "cell_type": "code",
   "execution_count": 52,
   "metadata": {},
   "outputs": [
    {
     "ename": "TypeError",
     "evalue": "list indices must be integers or slices, not tuple",
     "output_type": "error",
     "traceback": [
      "\u001b[31m---------------------------------------------------------------------------\u001b[39m",
      "\u001b[31mTypeError\u001b[39m                                 Traceback (most recent call last)",
      "\u001b[36mCell\u001b[39m\u001b[36m \u001b[39m\u001b[32mIn[52]\u001b[39m\u001b[32m, line 1\u001b[39m\n\u001b[32m----> \u001b[39m\u001b[32m1\u001b[39m \u001b[38;5;28mprint\u001b[39m(\u001b[43mdataset\u001b[49m\u001b[43m[\u001b[49m\u001b[32;43m0\u001b[39;49m\u001b[43m,\u001b[49m\u001b[43m:\u001b[49m\u001b[43m]\u001b[49m)\n",
      "\u001b[36mFile \u001b[39m\u001b[32mc:\\Users\\MSI LAPTOP\\AppData\\Local\\Programs\\Python\\Python311\\Lib\\site-packages\\torchvision\\datasets\\folder.py:244\u001b[39m, in \u001b[36mDatasetFolder.__getitem__\u001b[39m\u001b[34m(self, index)\u001b[39m\n\u001b[32m    236\u001b[39m \u001b[38;5;28;01mdef\u001b[39;00m\u001b[38;5;250m \u001b[39m\u001b[34m__getitem__\u001b[39m(\u001b[38;5;28mself\u001b[39m, index: \u001b[38;5;28mint\u001b[39m) -> Tuple[Any, Any]:\n\u001b[32m    237\u001b[39m \u001b[38;5;250m    \u001b[39m\u001b[33;03m\"\"\"\u001b[39;00m\n\u001b[32m    238\u001b[39m \u001b[33;03m    Args:\u001b[39;00m\n\u001b[32m    239\u001b[39m \u001b[33;03m        index (int): Index\u001b[39;00m\n\u001b[32m   (...)\u001b[39m\u001b[32m    242\u001b[39m \u001b[33;03m        tuple: (sample, target) where target is class_index of the target class.\u001b[39;00m\n\u001b[32m    243\u001b[39m \u001b[33;03m    \"\"\"\u001b[39;00m\n\u001b[32m--> \u001b[39m\u001b[32m244\u001b[39m     path, target = \u001b[38;5;28;43mself\u001b[39;49m\u001b[43m.\u001b[49m\u001b[43msamples\u001b[49m\u001b[43m[\u001b[49m\u001b[43mindex\u001b[49m\u001b[43m]\u001b[49m\n\u001b[32m    245\u001b[39m     sample = \u001b[38;5;28mself\u001b[39m.loader(path)\n\u001b[32m    246\u001b[39m     \u001b[38;5;28;01mif\u001b[39;00m \u001b[38;5;28mself\u001b[39m.transform \u001b[38;5;129;01mis\u001b[39;00m \u001b[38;5;129;01mnot\u001b[39;00m \u001b[38;5;28;01mNone\u001b[39;00m:\n",
      "\u001b[31mTypeError\u001b[39m: list indices must be integers or slices, not tuple"
     ]
    }
   ],
   "source": [
    "print(dataset[0,:])"
   ]
  },
  {
   "cell_type": "code",
   "execution_count": null,
   "metadata": {},
   "outputs": [
    {
     "name": "stdout",
     "output_type": "stream",
     "text": [
      "\n",
      "Cantidad de Datos en Entrenamiento y Prueba:\n",
      "X_train.shape: torch.Size([14979, 784])\n",
      "X_test.shape: torch.Size([3745, 784])\n",
      "y_train.shape: torch.Size([14979])\n",
      "y_test.shape: torch.Size([3745])\n"
     ]
    }
   ],
   "source": [
    "# ============================================================\n",
    "# 4. División del dataset en entrenamiento y prueba\n",
    "# ============================================================\n",
    "X_train, X_test, y_train, y_test = train_test_split(X, Y, test_size=0.2, random_state=42, stratify=Y)\n",
    "\n",
    "print(\"\\nCantidad de Datos en Entrenamiento y Prueba:\")\n",
    "print(\"X_train.shape:\", X_train.shape)\n",
    "print(\"X_test.shape:\", X_test.shape)\n",
    "print(\"y_train.shape:\", y_train.shape)\n",
    "print(\"y_test.shape:\", y_test.shape)"
   ]
  },
  {
   "cell_type": "code",
   "execution_count": null,
   "metadata": {},
   "outputs": [],
   "source": [
    "# ============================================================\n",
    "# 5. Definición de funciones auxiliares (Softmax y Evaluate)\n",
    "# ============================================================\n",
    "def softmax(x):\n",
    "    exp_x = torch.exp(x)\n",
    "    return exp_x / exp_x.sum(axis=-1, keepdims=True)\n",
    "\n",
    "def evaluate(x):\n",
    "    model.eval()\n",
    "    y_pred = model(x)\n",
    "    y_probas = softmax(y_pred)\n",
    "    return torch.argmax(y_probas, axis=1)"
   ]
  },
  {
   "cell_type": "code",
   "execution_count": null,
   "metadata": {},
   "outputs": [],
   "source": [
    "# ============================================================\n",
    "# 6. Definición del modelo personalizado (Custom Model)\n",
    "# ============================================================\n",
    "class ModeloPersonalizado(torch.nn.Module):\n",
    "    def __init__(self, D_in, h1, h2, h3, D_out):\n",
    "        super(ModeloPersonalizado, self).__init__()\n",
    "        self.fc1 = torch.nn.Linear(D_in, h1)\n",
    "        self.relu1 = torch.nn.ReLU()\n",
    "        self.fc2 = torch.nn.Linear(h1, h2)\n",
    "        self.relu2 = torch.nn.ReLU()\n",
    "        self.fc3 = torch.nn.Linear(h2, h3)\n",
    "        self.relu3 = torch.nn.ReLU()\n",
    "        self.fc4 = torch.nn.Linear(h3, D_out)\n",
    "\n",
    "    def forward(self, x):\n",
    "        x = self.fc1(x)\n",
    "        x = self.relu1(x)\n",
    "        x = self.fc2(x)\n",
    "        x = self.relu2(x)\n",
    "        x = self.fc3(x)    \n",
    "        x = self.relu3(x)\n",
    "        x = self.fc4(x)\n",
    "        return x\n",
    "\n",
    "model = ModeloPersonalizado(D_in=784, h1=1024, h2=512, h3=128, D_out=10).to(\"cuda\")"
   ]
  },
  {
   "cell_type": "code",
   "execution_count": null,
   "metadata": {},
   "outputs": [],
   "source": [
    "# ============================================================\n",
    "# 7. Configuración de la función de pérdida, optimizador y conversión de datos\n",
    "# ============================================================\n",
    "criterion = torch.nn.CrossEntropyLoss() \n",
    "optimizer = torch.optim.SGD(model.parameters(), lr=0.1)\n",
    "\n",
    "X_t = X_train.float().cuda()\n",
    "Y_t = y_train.long().cuda() \n"
   ]
  },
  {
   "cell_type": "code",
   "execution_count": null,
   "metadata": {},
   "outputs": [
    {
     "name": "stdout",
     "output_type": "stream",
     "text": [
      "\n",
      "Entrenamiento del Modelo:\n",
      "Epoch 200/5000 Loss 1.00812\n",
      "Epoch 400/5000 Loss 0.68844\n",
      "Epoch 600/5000 Loss 0.55991\n",
      "Epoch 800/5000 Loss 0.48708\n",
      "Epoch 1000/5000 Loss 0.43459\n",
      "Epoch 1200/5000 Loss 0.40220\n",
      "Epoch 1400/5000 Loss 0.36758\n",
      "Epoch 1600/5000 Loss 0.34431\n",
      "Epoch 1800/5000 Loss 0.31990\n",
      "Epoch 2000/5000 Loss 0.32439\n",
      "Epoch 2200/5000 Loss 0.30836\n",
      "Epoch 2400/5000 Loss 0.28955\n",
      "Epoch 2600/5000 Loss 0.27551\n",
      "Epoch 2800/5000 Loss 0.25968\n",
      "Epoch 3000/5000 Loss 0.24432\n",
      "Epoch 3200/5000 Loss 0.23030\n",
      "Epoch 3400/5000 Loss 0.21761\n",
      "Epoch 3600/5000 Loss 0.20614\n",
      "Epoch 3800/5000 Loss 0.19577\n",
      "Epoch 4000/5000 Loss 0.18635\n",
      "Epoch 4200/5000 Loss 0.17778\n",
      "Epoch 4400/5000 Loss 0.16995\n",
      "Epoch 4600/5000 Loss 0.16277\n",
      "Epoch 4800/5000 Loss 0.15618\n",
      "Epoch 5000/5000 Loss 0.15009\n"
     ]
    }
   ],
   "source": [
    "# ============================================================\n",
    "# 8. Bucle de entrenamiento\n",
    "# ============================================================\n",
    "print(\"\\nEntrenamiento del Modelo:\")\n",
    "epochs = 5000\n",
    "log_each = 200\n",
    "l = []\n",
    "\n",
    "model.train()\n",
    "for e in range(1, epochs+1):\n",
    "    y_pred = model(X_t)\n",
    "    loss = criterion(y_pred, Y_t)\n",
    "    l.append(loss.item())\n",
    "    optimizer.zero_grad() \n",
    "    loss.backward() \n",
    "    optimizer.step() \n",
    "    if not e % log_each:\n",
    "        print(f\"Epoch {e}/{epochs} Loss {np.mean(l):.5f}\")"
   ]
  },
  {
   "cell_type": "code",
   "execution_count": null,
   "metadata": {},
   "outputs": [
    {
     "data": {
      "image/png": "[encoded data removed]",
      "text/plain": [
       "<Figure size 1000x500 with 1 Axes>"
      ]
     },
     "metadata": {},
     "output_type": "display_data"
    }
   ],
   "source": [
    "import matplotlib.pyplot as plt\n",
    "\n",
    "# Crear gráfico de la pérdida\n",
    "plt.figure(figsize=(10, 5))\n",
    "plt.plot(l, label='Pérdida durante el entrenamiento', color='blue')\n",
    "plt.xlabel(\"Épocas\")\n",
    "plt.ylabel(\"Pérdida (Loss)\")\n",
    "plt.title(\"Evolución de la pérdida durante el entrenamiento\")\n",
    "plt.legend()\n",
    "plt.grid(True)\n",
    "plt.show()"
   ]
  },
  {
   "cell_type": "code",
   "execution_count": null,
   "metadata": {},
   "outputs": [
    {
     "name": "stdout",
     "output_type": "stream",
     "text": [
      "\n",
      "Resultados del Entrenamiento:\n",
      "Accuracy: 0.9268 92.68%\n",
      "Error final de clasificación: 0.0732 (7.32%)\n",
      "\n",
      "Capas del Modelo:\n",
      "[Linear(in_features=784, out_features=1024, bias=True), ReLU(), Linear(in_features=1024, out_features=512, bias=True), ReLU(), Linear(in_features=512, out_features=128, bias=True), ReLU(), Linear(in_features=128, out_features=10, bias=True)]\n",
      "\n"
     ]
    }
   ],
   "source": [
    "# ============================================================\n",
    "# 9. Evaluación del modelo en el conjunto de prueba\n",
    "# ============================================================\n",
    "y_pred = evaluate(X_test.float().cuda())\n",
    "acc = accuracy_score(y_test.cpu().numpy(), y_pred.cpu().numpy()) \n",
    "\n",
    "print(\"\\nResultados del Entrenamiento:\")\n",
    "print(f\"Accuracy: {acc:.4f} {acc*100:.2f}%\")\n",
    "\n",
    "error_final = 1 - acc\n",
    "print(f\"Error final de clasificación: {error_final:.4f} ({error_final*100:.2f}%)\")\n",
    "\n",
    "print(\"\\nCapas del Modelo:\")\n",
    "print(list(model.children()))\n",
    "print()"
   ]
  },
  {
   "cell_type": "code",
   "execution_count": null,
   "metadata": {},
   "outputs": [
    {
     "data": {
      "text/plain": [
       "'\\nTabla resumen de pruebas (organizada por LR):\\n\\n|-------------------------------------------------------------------------------------------------------|\\n|          Arquitectura          |  Epocas  | LR=0.001 | LR=0.01 | LR=0.08 | LR=0.1  |  LR=0.3 | LR=0.8 |\\n|-------------------------------------------------------------------------------------------------------|\\n| 3 Capas (512,256,64)           |   1500   |     -    |    -    |  9.03%  |  8.11%  |  8.38%  | 13.62% |\\n| 3 Capas (2024,512,32)          |   2000   |     -    |    -    |    -    |  8.52%  |  9.48%  |   -    |\\n| 3 Capas (2024,512,64)          |   2000   |     -    |    -    |    -    |  7.58%  |    -    |   -    |\\n| 3 Capas (1024,512,128)         |   2000   |     -    |  9.61%  |    -    |  7.37%  |  90%    |   -    | \\n| 3 Capas (1024,512,128)         |   12000  |     -    |    -    |    -    |  7.48%  |         |   13%  |\\n| 3 Capas (1024,512,128)         |   5000   |     -    |    -    |    -    |  7.24%  |  8.53%  |        |\\n| 3 Capas (1024,512,256)         |   1500   |     -    |  12.07% |    -    |  7.69%  |  8.52%  |  90%   |\\n| 3 Capas (1024,512,256)         |    500   |     -    |  20.69% |    -    |    -    |    -    |   -    |\\n| 2 Capas (512,128)              |   1500   |     -    |    -    |    -    |  8.62%  |  8.53%  | 13.14% |\\n| 2 Capas (512,128)              |   3000   |     -    |    -    |    -    |  7.74%  |  8.42%  |  90%   |\\n| 3 Capas (512,128,32)           |   1500   |     -    |    -    |    -    |  8.54.% |  8.57.% | 13.02% |\\n| 3 Capas (512,128,32)           |   500    |     -    |    -    |    -    |         |  9.21%  |        |\\n| 3 Capas (392,128,16)           |   1500   |     -    |    -    |  8.54%  |  8.14%  |  90%    |        |\\n| 3 Capas (392,16)               |   1500   |     -    |         |  16.56% |  8.57%  |  8.6%   | 13.89% |\\n| 3 Capas (1024,512,128)         |   3000   |     -    |  10.81% |    -    |         |         |        |\\n| 3 Capas (1024,512,128)         |   6000   |  13.97%  |    -    |    -    |     -   |   -     |    -   |\\n| 3 Capas (1024,512,128)         |   8000   |  14.29%  |         |         |         |         |        | \\n| 4 Capas (1024,512,256,128)     |   1500   |     -    |         |         |  7.69%  |         |        |\\n| 3 Capas (1024,512,128)         |   1000   |     -    |         |    -    |   -     |  8.73%  |        |\\n| 3 Capas (1024,512,128)         |   2000   |          | 13.27%  |    -    |     -   |   -     |    -   |\\n| 3 Capas (1024,512,128)         |   4000   |          | 11.16%  |         |         |         |        |\\n| 4 Capas (1024,512,256,128)     |   6000   |     -    |  9.91%  |         |  8.39%  |  8.61%  | 13.02% |\\n| 4 Capas (1024,512,256,128)     |   8000   |  64.28%  |         |         |         |         |        | \\n| 4 Capas (1024,512,256,128)     |   20000  |  14.23%  |         |         |  8.12%  |  8.24%  | 13.91% |\\n| 4 Capas (1024,512,256,128)     |   25000  |  11.05%  |         |         |         |         |        |\\n| 4 Capas (2048,1024,512,216)    |   6000   |          | 12.84%  |         |         |         |        | \\n| 4 Capas (2048,1024,512,216)    |   7000   |          |  8.46%  |         |         |         | 12.74% |\\n| 4 Capas (2048,1024,512,216)    |   7200   |          |  8.25%  |         |         |         |        |\\n| 4 Capas (2048,1024,512,216)    |   1500   |          |  -      |         |  7.72%  |  8.83%  | 13.08% |                    \\n--------------------------------------------------------------------------------------------------------|\\n\\nTotal de perceptrones: 1674\\nTotal de parametros: 1.394.566 (Pesos y Bias)  \\n\\n'"
      ]
     },
     "execution_count": 13,
     "metadata": {},
     "output_type": "execute_result"
    }
   ],
   "source": [
    "# ============================================================\n",
    "# 10. Resumen de experimentos\n",
    "# ============================================================\n",
    "\n",
    "'''\n",
    "Tabla resumen de pruebas (organizada por LR):\n",
    "\n",
    "|-------------------------------------------------------------------------------------------------------|\n",
    "|          Arquitectura          |  Epocas  | LR=0.001 | LR=0.01 | LR=0.08 | LR=0.1  |  LR=0.3 | LR=0.8 |\n",
    "|-------------------------------------------------------------------------------------------------------|\n",
    "| 3 Capas (512,256,64)           |   1500   |     -    |    -    |  9.03%  |  8.11%  |  8.38%  | 13.62% |\n",
    "| 3 Capas (2024,512,32)          |   2000   |     -    |    -    |    -    |  8.52%  |  9.48%  |   -    |\n",
    "| 3 Capas (2024,512,64)          |   2000   |     -    |    -    |    -    |  7.58%  |    -    |   -    |\n",
    "| 3 Capas (1024,512,128)         |   2000   |     -    |  9.61%  |    -    |  7.37%  |  90%    |   -    | \n",
    "| 3 Capas (1024,512,128)         |   12000  |     -    |    -    |    -    |  7.48%  |         |   13%  |\n",
    "| 3 Capas (1024,512,128)         |   5000   |     -    |    -    |    -    |  7.24%  |  8.53%  |        |\n",
    "| 3 Capas (1024,512,256)         |   1500   |     -    |  12.07% |    -    |  7.69%  |  8.52%  |  90%   |\n",
    "| 3 Capas (1024,512,256)         |    500   |     -    |  20.69% |    -    |    -    |    -    |   -    |\n",
    "| 2 Capas (512,128)              |   1500   |     -    |    -    |    -    |  8.62%  |  8.53%  | 13.14% |\n",
    "| 2 Capas (512,128)              |   3000   |     -    |    -    |    -    |  7.74%  |  8.42%  |  90%   |\n",
    "| 3 Capas (512,128,32)           |   1500   |     -    |    -    |    -    |  8.54.% |  8.57.% | 13.02% |\n",
    "| 3 Capas (512,128,32)           |   500    |     -    |    -    |    -    |         |  9.21%  |        |\n",
    "| 3 Capas (392,128,16)           |   1500   |     -    |    -    |  8.54%  |  8.14%  |  90%    |        |\n",
    "| 3 Capas (392,16)               |   1500   |     -    |         |  16.56% |  8.57%  |  8.6%   | 13.89% |\n",
    "| 3 Capas (1024,512,128)         |   3000   |     -    |  10.81% |    -    |         |         |        |\n",
    "| 3 Capas (1024,512,128)         |   6000   |  13.97%  |    -    |    -    |     -   |   -     |    -   |\n",
    "| 3 Capas (1024,512,128)         |   8000   |  14.29%  |         |         |         |         |        | \n",
    "| 4 Capas (1024,512,256,128)     |   1500   |     -    |         |         |  7.69%  |         |        |\n",
    "| 3 Capas (1024,512,128)         |   1000   |     -    |         |    -    |   -     |  8.73%  |        |\n",
    "| 3 Capas (1024,512,128)         |   2000   |          | 13.27%  |    -    |     -   |   -     |    -   |\n",
    "| 3 Capas (1024,512,128)         |   4000   |          | 11.16%  |         |         |         |        |\n",
    "| 4 Capas (1024,512,256,128)     |   6000   |     -    |  9.91%  |         |  8.39%  |  8.61%  | 13.02% |\n",
    "| 4 Capas (1024,512,256,128)     |   8000   |  64.28%  |         |         |         |         |        | \n",
    "| 4 Capas (1024,512,256,128)     |   20000  |  14.23%  |         |         |  8.12%  |  8.24%  | 13.91% |\n",
    "| 4 Capas (1024,512,256,128)     |   25000  |  11.05%  |         |         |         |         |        |\n",
    "| 4 Capas (2048,1024,512,216)    |   6000   |          | 12.84%  |         |         |         |        | \n",
    "| 4 Capas (2048,1024,512,216)    |   7000   |          |  8.46%  |         |         |         | 12.74% |\n",
    "| 4 Capas (2048,1024,512,216)    |   7200   |          |  8.25%  |         |         |         |        |\n",
    "| 4 Capas (2048,1024,512,216)    |   1500   |          |  -      |         |  7.72%  |  8.83%  | 13.08% |                    \n",
    "--------------------------------------------------------------------------------------------------------|\n",
    "\n",
    "Total de perceptrones: 1674\n",
    "Total de parametros: 1.394.566 (Pesos y Bias)  \n",
    "\n",
    "'''"
   ]
  }
 ],
 "metadata": {
  "kernelspec": {
   "display_name": "Python 3",
   "language": "python",
   "name": "python3"
  },
  "language_info": {
   "codemirror_mode": {
    "name": "ipython",
    "version": 3
   },
   "file_extension": ".py",
   "mimetype": "text/x-python",
   "name": "python",
   "nbconvert_exporter": "python",
   "pygments_lexer": "ipython3",
   "version": "3.11.9"
  }
 },
 "nbformat": 4,
 "nbformat_minor": 2
}
